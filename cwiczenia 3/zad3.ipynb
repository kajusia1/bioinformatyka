{
 "cells": [
  {
   "cell_type": "code",
   "execution_count": 4,
   "metadata": {},
   "outputs": [
    {
     "name": "stdout",
     "output_type": "stream",
     "text": [
      "[<Element GBSet at 0x221890240c0>, <Element GBSet at 0x22188007180>, <Element GBSet at 0x2218880b040>]\n"
     ]
    }
   ],
   "source": [
    "#Zadanie3:\n",
    "#Z bazy Nucleotide pobierz sekwencje o następującach ID: NM_001012006.1, MK560199.1, AB046569.1.\n",
    "\n",
    "from urllib.request import urlopen\n",
    "from lxml import etree\n",
    "\n",
    "\n",
    "##########NASZE ZAPYTANIE\n",
    "ID = ['NM_001012006.1', 'MK560199.1', 'AB046569.1'] # id sekwencji\n",
    "xml_list=[]\n",
    "for id in ID:\n",
    "    baseurl = \"https://eutils.ncbi.nlm.nih.gov/entrez/eutils/efetch.fcgi?\"\n",
    "    query = \"db=nucleotide&id=\"+id+\"&format=xml\" \n",
    "    url = baseurl+query\n",
    "    ########################\n",
    "\n",
    "    #########OTWORZ URL I PRZECZYTAJ XML\n",
    "    f = urlopen(url) \n",
    "    resultxml = f.read() \n",
    "    xml = etree.XML(resultxml) \n",
    "    xml_list.append(xml)\n",
    "    \n",
    "print(xml_list)\n",
    "###################################"
   ]
  },
  {
   "cell_type": "code",
   "execution_count": 7,
   "metadata": {},
   "outputs": [
    {
     "name": "stdout",
     "output_type": "stream",
     "text": [
      ">Rattus norvegicus atgtcaagctcctgctggctccttctcagccttgttgctgttgctactgctcagtccctcatcgaggaaaaggccgagagctttttaaacaagtttaaccaggaagctgaagacctgtcttatcaaagttcacttgcttcttggaattacaacaccaacattacggaggagaatgcccaaaagatgaacgaggctgcggccaaatggtctgccttttatgaagaacagtccaagatcgcccaaaatttctcactacaagaaattcagaatgcgaccatcaagcgtcaactgaaggcccttcagcagagcgggtcttcagcgctgtcaccagacaagaacaaacagttgaacacaattctaaacaccatgagcaccatttacagtactggaaaagtttgcaactcaatgaatccacaagaatgttttttacttgaaccaggattggacgaaataatggcaacaagcacagactacaatcgtaggctctgggcttgggagggctggagggctgaggtcggcaagcagctgaggccgttatatgaagagtatgtggtcctgaaaaatgagatggcaagagcaaacaattatgaagactatggggattattggcgaggggattatgaagcagagggagtagaaggttacaactacaaccgaaaccagttgatcgaagacgtagaaaataccttcaaagagatcaaaccgttgtatgagcaacttcatgcctatgtgagaacgaagttgatggaagtgtacccttcttacatcagccctactggatgcctccctgctcatttgcttggtgatatgtggggtaggttttggacaaatctgtaccctttgactactccctttcttcagaaaccaaacatagatgttactgatgcaatggtgaatcagagctgggatgcagaaagaatatttaaagaggcagagaagttcttcgtttctgttggccttcctcaaatgactccgggattctggacaaactccatgctgactgagccaggagatgaccggaaagttgtctgccaccccacagcttgggatctgggacatggagacttcagaatcaagatgtgcacaaaggtcacaatggacaacttcttgacagcccatcatgagatgggacacatccaatatgacatggcatatgccaagcaacctttcctgctaagaaacggagccaatgaagggttccatgaagccgttggagaaatcatgtcactttctgcagctacccccaaacatttgaaatctattggtcttctgccatccaattttcaagaagacaatgaaacagaaataaacttcctactcaaacaggcattgacaattgttggaacgctgccatttacttacatgttagagaagtggaggtggatggtctttcaggataaaattcccagagaacagtggaccaaaaagtggtgggagatgaagcgggagatcgttggtgtggtggagcctctgcctcatgatgaaacatactgtgaccctgcatctctgttccatgtctctaatgattactcattcattcgatattacacaaggaccatttatcaattccagtttcaagaagctctttgtcaagcagctaaacatgatggcccactacacaaatgtgacatctcaaattccactgaagctgggcagaagttgctcaatatgctgagtcttggaaactcagggccctggaccctagccttggaaaatgtggtaggatcaaggaatatggatgtaaaaccactgctcaattacttccaaccattgtttgtctggctgaaagagcagaacaggaattcgactgtggggtggagcactgactggagcccatatgccgaccaaagcattaaagtgaggataagcctaaaatcagctcttgggaaaaatgcgtatgaatggaccgacaacgaaatgtacctattccgatcatctgttgcctatgccatgagagagtatttttcaagggaaaagaaccagacagttccttttggggaggcagacgtatgggtgagtgatttgaaaccaagagtctccttcaacttctttgtcacttcacccaaaaatgtgtctgacatcattcccagaagtgaagttgaagaggccatcaggatgtctcggggccgtatcaatgatatttttggtctgaatgataacagcctggagtttctggggatctacccaacacttaagccaccttacgagcctcctgtcaccatatggctgattatttttggtgtcgtgatgggaacggtagtggttggcattgttatcctgatcgtcactgggatcaaaggtcgaaagaagaaaaatgaaacaaaaagagaagagaatccttatgactccatggacattggcaaaggagaaagtaacgcaggattccaaaacagtgatgatgctcaaacttcattctaa\n",
      ">Gallus gallus cgggatccatgttgcttcacttctggcttctctgtggtctgagcgctgttgtgacccctcaggacgtcacacaggaagcccaaacatttctggcagagttcaatgtgagagcagaagacatcagctatgaaaactcacttgcctcgtggaactacaacaccaacataactgaggagacagccaggaaaatgagtgaggcaggtgccaagtgggcagcattttatgaggaggcctccaggaacgctagccgcttctcactagctaacatccaggatgctgtcaccaggctccagatccagtctctgcaggacaggggatcctctgttctgtcaccggaaaaatacagcaggctgaactctgtgatgaactcaatgagtaccatctacagcactggggttgtctgcaaagccactgaaccgttcgactgtttggtgctggagccaggtctggatgatattatggccaatagcatagactatcatgagcgactgtgggcctgggaaggctggagagctgatgttggcaggatgatgagaccattatatgaagagtatgttgaacttaaaaatgaggctgcaaggcttaataattattctgactatggagactactggagagcaaattatgaaacagattatccagaggagtataaatacagccgtgaccagctggttcaagatgtggagaaaacatttgagcagataaaacctctgtaccagcatctgcatgcctacgtgaggcaccgtttggagcaagtctatggctctgagctcatcaaccccactggatgcctccctgcacacttgctgggtgatatgtggggtagattttggacaaatctgtataacttgactgttccctatccagaaaaaccaaacattgatgtaacttctgcaatggctcaaaagaactgggatgcaatgaaaatattcaaaaccgctgaggcttttttcgcctccattggtctctacaacatgactgaaggcttctggacaaactccatgctcacagagcccaccgacaacaggaaggttgtctgccatcctacagcatgggatatggggaagaatgactacaggatcaagatgtgcaccaaggttacaatggatgacttcctgacggcacaccatgagatgggtcacattgagtacgacatggcgtactctgtacagcccttcctgttgcgagatggggccaatgagggcttccatgaagcagtaggtgaaatcatgtcactctctgcagcaacaccacagcatctgaaatctctcgacctccttgagccaactttccaagaggatgaagaaactgaaatcaactttctgctcaaacaagcactaacaattgttggaacaatgccttttacttacatgctggagaagtggaggtggatggtgtttaatggtgagattacaaagcaggagtggacgaagcggtggtggaagatgaagagagaaatagttggtgttgtcgaaccagtccctcacgatgagacgtactgcgatcctgctgcactgtttcatgtggctaatgattactcattcataaggtattatactcggacgatttaccagttccagtttcaggaggcactttgcaaggcggccaaccacactggccctcttcacaaatgtgacatcaccaattctacagcagctggtgggaatttgaggcaattgcttgaattaggcaaatcaaagccctggactcaagcactggaaagtgcaacaggagagaaatacatgaatgctacacccctgctccactactttgagcctttatttaactggctgcaaaagaacaattctggcagatccattggctggaatacagactggacaccatattctgacaatgccatcaaggtacgcatcagtttgaaagcagcgctgggagatgacgcgtatgtgtgggatgcaagtgagctcttcttgttcaagtcatccattgcctatgccatgaggaaatactttgcaaaggagaaggaacaaaatgttgacttccaggttacagacattcacgttggggaagagacgcagagggtctccttctaccttacagtcagcatgccaggtaatgtcagtgatattgtgcccagagctgacgtggaaaaagccatcaggatgtctcggggacgaatcagtgaggctttcagactggatgacaacacgctggagtttgatggcatagtaccaaccctggccacaccttacaaaccaccagtcaccatctggttaattctgtttggggtggtcatgagtctgattgtcattggagttattgtcttgatcatcactggtcagagggataaaagaaagaaagcaagagggagagcgaatgaagcaggatcaaactgtgaagtgaatccttacgatgaagatggaagaagcaacaagggttttgagcaatctgaagagacacaaacatccttttagaagcttcgc\n",
      ">Homo sapiens tttttagtctagggaaagtcattcagtggatgtgatcttggctcacaggggacgatgtcaagctcttcctggctccttctcagccttgttgctgtaactgctgctcagtccaccattgaggaacaggccaagacatttttggacaagtttaaccacgaagccgaagacctgttctatcaaagttcacttgcttcttggaattataacaccaatattactgaagagaatgtccaaaacatgaataacgctggggacaaatggtctgcctttttaaaggaacagtccacacttgcccaaatgtatccactacaagaaattcagaatctcacagtcaagcttcagctgcaggctcttcagcaaaatgggtcttcagtgctctcagaagacaagagcaaacggttgaacacaattctaaatacaatgagcaccatctacagtactggaaaagtttgtaacccagataatccacaagaatgcttattacttgaaccaggtttgaatgaaataatggcaaacagtttagactacaatgagaggctctgggcttgggaaagctggagatctgaggtcggcaagcagctgaggccattatatgaagagtatgtggtcttgaaaaatgagatggcaagagcaaatcattatgaggactatggggattattggagaggagactatgaagtaaatggggtagatggctatgactacagccgcggccagttgattgaagatgtggaacatacctttgaagagattaaaccattatatgaacatcttcatgcctatgtgagggcaaagttgatgaatgcctatccttcctatatcagtccaattggatgcctccctgctcatttgcttggtgatatgtggggtagattttggacaaatctgtactctttgacagttccctttggacagaaaccaaacatagatgttactgatgcaatggtggaccaggcctgggatgcacagagaatattcaaggaggccgagaagttctttgtatctgttggtcttcctaatatgactcaaggattctgggaaaattccatgctaacggacccaggaaatgttcagaaagcagtctgccatcccacagcttgggacctggggaaaggcgacttcaggatccttatgtgcacaaaggtgacaatggacgacttcctgacagctcatcatgagatggggcatattcagtatgatatggcatatgctgcacaaccttttctgctaagaaatggagctaatgaaggattccatgaagctgttggggaaatcatgtcactttctgcagccacacctaagcatttaaaatccattggtcttctgtcacccgattttcaagaagacaatgaaacagaaataaacttcctgctcaaacaagcactcacgattgttgggactctgccatttacttacatgttagagaagtggaggtggatggtctttaaaggggaaattcccaaagaccagtggatgaaaaagtggtgggagatgaagcgagagatagttggggtggtggaacctgtgccccatgatgaaacatactgtgaccccgcatctctgttccatgtttctaatgattactcattcattcgatattacacaaggaccctttaccaattccagtttcaagaagcactttgtcaagcagctaaacatgaaggccctctgcacaaatgtgacatctcaaactctacagaagctggacagaaactgttcaatatgctgaggcttggaaaatcagaaccctggaccctagcattggaaaatgttgtaggagcaaagaacatgaatgtaaggccactgctcaactactttgagcccttatttacctggctgaaagaccagaacaagaattcttttgtgggatggagtaccgactggagtccatatgcagaccaaagcatcaaagtgaggataagcctaaaatcagctcttggagatagagcatatgaatggaacgacaatgaaatgtacctgttccgatcatctgttgcatatgctatgaggcagtactttttaaaagtaaaaaatcagatgattctttttggggaggaggatgtgcgagtggctaatttgaaaccaagaatctcctttaatttctttgtcactgcacctaaaaatgtgtctgatatcattcctagaactgaagttgaaaaggccatcaggatgtcccggagccgtatcaatgatgctttccgtctgaatgacaacagcctagagtttctggggatacagccaacacttggacctcctaaccagccccctgtttccatatggctgattgtttttggagttgtgatgggagtgatagtggttggcattgtcatcctgatcttcactgggatcagagatcggaagaagaaaaataaagcaagaagtggagaaaatccttatgcctccatcgatattagcaaaggagaaaataatccaggattccaaaacactgatgatgttcagacctccttttagaaaaatctatgtttttcctcttgaggtgattttgttgtatgtaaatgttaatttcatggtatagaaaatataagatgataaaaatatcattaaatgtcaaaactatgactctgttcagaaaaaaaaa\n",
      "\n"
     ]
    }
   ],
   "source": [
    "fasta = \"\"\n",
    "for xml in xml_list:\n",
    "    resultelements = xml.xpath(\"//GBSeq_sequence\") #sekwencja\n",
    "    resultelements2=xml.xpath(\"//GBSeq_organism\")\n",
    "    \n",
    "    fasta=fasta + \">\" +resultelements2[0].text + \" \" +resultelements[0].text + '\\n'\n",
    "   \n",
    "\n",
    "print(fasta)\n"
   ]
  },
  {
   "cell_type": "code",
   "execution_count": 8,
   "metadata": {},
   "outputs": [
    {
     "name": "stdout",
     "output_type": "stream",
     "text": [
      "File created successfully!\n"
     ]
    }
   ],
   "source": [
    "with open(\"fastalist.txt\", \"w\") as file:\n",
    "    # Write each item in the list to the file\n",
    "    file.write(fasta)  \n",
    "\n",
    "print(\"File created successfully!\")"
   ]
  },
  {
   "cell_type": "code",
   "execution_count": null,
   "metadata": {},
   "outputs": [],
   "source": []
  }
 ],
 "metadata": {
  "kernelspec": {
   "display_name": "base",
   "language": "python",
   "name": "python3"
  },
  "language_info": {
   "codemirror_mode": {
    "name": "ipython",
    "version": 3
   },
   "file_extension": ".py",
   "mimetype": "text/x-python",
   "name": "python",
   "nbconvert_exporter": "python",
   "pygments_lexer": "ipython3",
   "version": "3.12.4"
  }
 },
 "nbformat": 4,
 "nbformat_minor": 2
}
