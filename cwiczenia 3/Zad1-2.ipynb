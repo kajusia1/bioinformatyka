{
 "cells": [
  {
   "cell_type": "code",
   "execution_count": 1,
   "metadata": {},
   "outputs": [],
   "source": [
    "#Zadanie1:\n",
    "#Z bazy danych PubMed pobierz i zapisz do pliku wszystkie tytuły publikacji których autorem (lub współautorem) \n",
    "#jest Krzysztof Murzyn.from urllib.request import urlopen\n",
    "from urllib.request import urlopen\n",
    "from urllib.parse import urlencode \n",
    "from lxml import etree  #modul zeby otworzyc pliki XML\n",
    "\n",
    "\n",
    "##########NASZE ZAPYTANIE\n",
    "author_name = \"Krzysztof Murzyn\"\n",
    "base_url = \"https://eutils.ncbi.nlm.nih.gov/entrez/eutils/esearch.fcgi?\"\n",
    "url = base_url+ urlencode({\"db\": \"pubmed\", \"term\": author_name+\"[author]\", \"retmax\": 40})  #db = database\n",
    "#########################\n",
    "\n",
    "#########OTWORZ URL I PRZECZYTAJ XML\n",
    "response = urlopen(url)\n",
    "resultxml = response.read()\n",
    "xml = etree.XML(resultxml)\n",
    "####################################"
   ]
  },
  {
   "cell_type": "code",
   "execution_count": 2,
   "metadata": {},
   "outputs": [
    {
     "name": "stdout",
     "output_type": "stream",
     "text": [
      "['Count', 'TranslationSet', 'IdList', 'QueryTranslation', 'eSearchResult', 'RetMax', 'Translation', 'To', 'RetStart', 'Id', 'From']\n"
     ]
    }
   ],
   "source": [
    "tags = list({elem.tag for elem in xml.iter()}) #Co mozemy sie dowiedziec?\n",
    "\n",
    "print(tags)"
   ]
  },
  {
   "cell_type": "code",
   "execution_count": 3,
   "metadata": {},
   "outputs": [
    {
     "name": "stdout",
     "output_type": "stream",
     "text": [
      "31 ['39246722', '39141478', '38750995', '37592849', '37416056', '37350851', '36464767', '35723299', '32940993', '30504221', '27902406', '26825705', '26718149', '25867074', '25296168', '24660117', '24286298', '23527010', '22428146', '22284390', '20506323', '19909337', '19199693', '17985365', '20408622', '16395663', '15652158', '15556990', '14594994', '14515159', '12774216']\n"
     ]
    }
   ],
   "source": [
    "resultelements = xml.xpath(\"//Id\") #wszystkie ID prac autora\n",
    "id_list=[]\n",
    "for elem in resultelements:\n",
    "    id_list.append(elem.text)\n",
    "\n",
    "print(len(id_list), id_list)\n"
   ]
  },
  {
   "cell_type": "code",
   "execution_count": 4,
   "metadata": {},
   "outputs": [
    {
     "name": "stdout",
     "output_type": "stream",
     "text": [
      "[<Element PubmedArticleSet at 0x2b5c93fe340>, <Element PubmedArticleSet at 0x2b5c923d180>, <Element PubmedArticleSet at 0x2b5c9431e00>, <Element PubmedArticleSet at 0x2b5c941d540>, <Element PubmedArticleSet at 0x2b5c944c9c0>, <Element PubmedArticleSet at 0x2b5c944c440>, <Element PubmedArticleSet at 0x2b5c944c900>, <Element PubmedArticleSet at 0x2b5c944c0c0>, <Element PubmedArticleSet at 0x2b5c944c500>, <Element PubmedArticleSet at 0x2b5c944d8c0>, <Element PubmedArticleSet at 0x2b5c944dc00>, <Element PubmedArticleSet at 0x2b5c944e140>, <Element PubmedArticleSet at 0x2b5c944dcc0>, <Element PubmedArticleSet at 0x2b5c944e3c0>, <Element PubmedArticleSet at 0x2b5c944e6c0>, <Element PubmedArticleSet at 0x2b5c944e880>, <Element PubmedArticleSet at 0x2b5c944ea80>, <Element PubmedArticleSet at 0x2b5c944ec80>, <Element PubmedArticleSet at 0x2b5c944e100>, <Element PubmedArticleSet at 0x2b5c944f080>, <Element PubmedArticleSet at 0x2b5c944f240>, <Element PubmedArticleSet at 0x2b5c944f440>, <Element PubmedArticleSet at 0x2b5c944f640>, <Element PubmedArticleSet at 0x2b5c944f840>, <Element PubmedArticleSet at 0x2b5c921e240>, <Element PubmedArticleSet at 0x2b5c923e840>, <Element PubmedArticleSet at 0x2b5c944fe40>, <Element PubmedArticleSet at 0x2b5c944e440>, <Element PubmedArticleSet at 0x2b5c944fdc0>, <Element PubmedArticleSet at 0x2b5c944f880>, <Element PubmedArticleSet at 0x2b5c944fe80>]\n",
      "['Abstract', 'PublicationType', 'StartPage', 'ISSNLinking', 'EndPage', 'Month', 'AbstractText', 'PublicationTypeList', 'DateCompleted', 'History', 'Affiliation', 'Hour', 'PublicationStatus', 'PubmedArticleSet', 'Chemical', 'MedlineTA', 'Reference', 'DateRevised', 'Citation', 'Issue', 'ArticleIdList', 'PubmedData', 'Journal', 'Title', 'MedlineJournalInfo', 'MedlinePgn', 'AffiliationInfo', 'ChemicalList', 'Pagination', 'ForeName', 'CitationSubset', 'QualifierName', 'DescriptorName', 'Day', 'Initials', 'NlmUniqueID', 'ArticleId', 'Author', 'PubDate', 'PubMedPubDate', 'MedlineCitation', 'PMID', 'RegistryNumber', 'Language', 'Minute', 'MeshHeadingList', 'ArticleTitle', 'ArticleDate', 'Year', 'ISOAbbreviation', 'LastName', 'AuthorList', 'PubmedArticle', 'JournalIssue', 'Volume', 'ReferenceList', 'Article', 'NameOfSubstance', 'ISSN', 'MeshHeading', 'Country']\n"
     ]
    }
   ],
   "source": [
    "from urllib.request import urlopen\n",
    "from lxml import etree\n",
    "xml_list=[]\n",
    "##########NASZE ZAPYTANIE\n",
    "for PMID in id_list:\n",
    "    baseurl = \"https://eutils.ncbi.nlm.nih.gov/entrez/eutils/efetch.fcgi?\"\n",
    "    query = \"db=pubmed&id=\"+PMID+\"&format=xml\"    \n",
    "########################\n",
    "\n",
    "\n",
    "#########OTWORZ URL I PRZECZYTAJ XML\n",
    "    url = baseurl+query\n",
    "    f = urlopen(url) \n",
    "    resultxml = f.read() \n",
    "    xml = etree.XML(resultxml) \n",
    "###################################\n",
    "    xml_list.append(xml)\n",
    "\n",
    "print(xml_list)\n",
    "\n",
    "tags = list({elem.tag for elem in xml.iter()}) #co sie moge dowiedzieć o tej pracy?\n",
    "print(tags)\n"
   ]
  },
  {
   "cell_type": "code",
   "execution_count": 5,
   "metadata": {},
   "outputs": [
    {
     "name": "stdout",
     "output_type": "stream",
     "text": [
      "31 ['Metal ions in biomedically relevant macromolecular structures.', 'CheckMyMetal (CMM): validating metal-binding sites in X-ray and cryo-EM data.', 'Targeted removal of the FA2 site on human albumin prevents fatty acid-mediated inhibition of Zn', 'The current role and evolution of X-ray crystallography in drug discovery and development.', 'Continuous Validation Across Macromolecular Structure Determination Process.', 'Structural biology and public health response to biomedical threats.', 'CMM-An enhanced platform for interactive validation of metal binding sites.', 'Antimicrobial Properties of a Peptide Derived from the Male Fertility Factor kl2 Protein of ', 'Condensed phase properties of n-pentadecane emerging from application of biomolecular force fields.', 'The antimicrobial activity of chemerin-derived peptide p4 requires oxidative conditions.', 'Multiple-locus variable-number tandem repeat fingerprinting as a method for rapid and cost-effective typing of animal-associated Staphylococcus aureus strains from lineages other than sequence type 398.', 'Computer modelling studies of the bilayer/water interface.', 'Secretory leukocyte protease inhibitor (SLPI), a multifunctional protein in the host defense response.', 'Structural properties of the water/membrane interface of a bilayer built of the E. coli lipid A.', 'DMG-α--a computational geometry library for multimolecular systems.', 'Chemerin regulation and role in host defense.', 'Refined OPLS all-atom force field parameters for n-pentadecane, methyl acetate, and dimethyl phosphate.', 'Chemerin is an antimicrobial agent in human epidermis.', 'Orientation of lutein in a lipid bilayer - revisited.', 'Structural characterization of Helicobacter pylori dethiobiotin synthetase reveals differences between family members.', 'New surface contacts formed upon reductive lysine methylation: improving the probability of protein crystallization.', 'Interleukin-1-inducible MCPIP protein has structural and functional properties of RNase and participates in degradation of IL-1beta mRNA.', 'Water isotope effect on the phosphatidylcholine bilayer properties: a molecular dynamics simulation study.', 'Nonpolar interactions between trans-membrane helical EGF peptide and phosphatidylcholines, sphingomyelins and cholesterol. Molecular dynamics simulation studies.', 'Dynamics of water at membrane surfaces: Effect of headgroup structure.', 'Influence of the disulfide bond configuration on the dynamics of the spin label attached to cytochrome c.', \"Cloning and characterization of 5' upstream promoter region of rat WAP gene.\", 'Phosphatidylethanolamine-phosphatidylglycerol bilayer as a model of the inner bacterial membrane.', 'Effects of phospholipid unsaturation on the bilayer nonpolar region: a molecular simulation study.', 'Molecular dynamics simulations of charged and neutral lipid bilayers: treatment of electrostatic interactions.', 'Construction of a toroidal model for the magainin pore.']\n"
     ]
    }
   ],
   "source": [
    "#Zobacz tytul\n",
    "title_list=[]\n",
    "for xml in xml_list:\n",
    "    resultelements2= xml.xpath(\"//ArticleTitle\") \n",
    "    for element in resultelements2:\n",
    "        title_list.append(element.text)\n",
    "    \n",
    "print(len(title_list), title_list)"
   ]
  },
  {
   "cell_type": "code",
   "execution_count": 6,
   "metadata": {},
   "outputs": [
    {
     "name": "stdout",
     "output_type": "stream",
     "text": [
      "File created successfully!\n"
     ]
    }
   ],
   "source": [
    "with open(\"title_list.txt\", \"w\") as file:\n",
    "    # Write each item in the list to the file\n",
    "    for item in title_list:\n",
    "        file.write(item + \"\\n\")  # Add a newline after each item\n",
    "\n",
    "print(\"File created successfully!\")"
   ]
  },
  {
   "cell_type": "code",
   "execution_count": 7,
   "metadata": {},
   "outputs": [
    {
     "name": "stdout",
     "output_type": "stream",
     "text": [
      "33 ['Understanding the functions of metal ions in biological systems is crucial for many aspects of research, including deciphering their roles in diseases and potential therapeutic use. Structural information about the molecular or atomic details of these interactions, generated by methods like X-ray crystallography, cryo-electron microscopy, or nucleic magnetic resonance, frequently provides details that no other method can. As with any experimental method, they have inherent limitations that sometimes lead to an erroneous interpretation. This manuscript highlights different aspects of structural data available for metal-protein complexes. We examine the quality of modeling metal ion binding sites across different structure determination methods, where different kinds of errors stem from, and how they can impact correct interpretations and conclusions.', 'Identifying and characterizing metal-binding sites (MBS) within macromolecular structures is imperative for elucidating their biological functions. CheckMyMetal (CMM) is a web based tool that facilitates the interactive validation of MBS in structures determined through X-ray crystallography and cryo-electron microscopy (cryo-EM). Recent updates to CMM have significantly enhanced its capability to efficiently handle large datasets generated from cryo-EM structural analyses. In this study, we address various challenges inherent in validating MBS within both X-ray and cryo-EM structures. Specifically, we examine the difficulties associated with accurately identifying metals and modeling their coordination environments by considering the ongoing reproducibility challenges in structural biology and the critical importance of well annotated, high-quality experimental data. CMM employs a sophisticated framework of rules rooted in the valence bond theory for MBS validation. We explore how CMM validation parameters correlate with the resolution of experimentally derived structures of macromolecules and their complexes. Additionally, we showcase the practical utility of CMM by analyzing a representative cryo-EM structure. Through a comprehensive examination of experimental data, we demonstrate the capability of CMM to advance MBS characterization and identify potential instances of metal misassignment.', 'Zinc is required for virtually all biological processes. In plasma, Zn', 'Macromolecular X-ray crystallography and cryo-EM are currently the primary techniques used to determine the three-dimensional structures of proteins, nucleic acids, and viruses. Structural information has been critical to drug discovery and structural bioinformatics. The integration of artificial intelligence (AI) into X-ray crystallography has shown great promise in automating and accelerating the analysis of complex structural data, further improving the efficiency and accuracy of structure determination.', 'This review explores the relationship between X-ray crystallography and other modern structural determination methods. It examines the integration of data acquired from diverse biochemical and biophysical techniques with those derived from structural biology. Additionally, the paper offers insights into the influence of AI on X-ray crystallography, emphasizing how integrating AI with experimental approaches can revolutionize our comprehension of biological processes and interactions.', 'Investing in science is crucially emphasized due to its significant role in drug discovery and advancements in healthcare. X-ray crystallography remains an essential source of structural biology data for drug discovery. Recent advances in biochemical, spectroscopic, and bioinformatic methods, along with the integration of AI techniques, hold the potential to revolutionize drug discovery when effectively combined with robust data management practices.', 'The overall quality of the experimentally determined structures contained in the PDB is exceptionally high, mainly due to the continuous improvement of model building and structural validation programs. Improving reproducibility on a large scale requires expanding the concept of validation in structural biology and all other disciplines to include a broader framework that encompasses the entire project. A successful approach to science requires diligent attention to detail and a focus on the future. An earnest commitment to data availability and reuse is essential for scientific progress, be that by human minds or artificial intelligence.', 'Over the course of the pandemic caused by SARS-CoV-2, structural biologists have worked hand in hand with groups developing vaccines and treatments. However, relying solely on ', 'Metal ions bound to macromolecules play an integral role in many cellular processes. They can directly participate in catalytic mechanisms or be essential for the structural integrity of proteins and nucleic acids. However, their unique nature in macromolecules can make them difficult to model and refine, and a substantial portion of metal ions in the PDB are misidentified or poorly refined. CheckMyMetal (CMM) is a validation tool that has gained widespread acceptance as an essential tool for researchers working on metal-macromolecule complexes. CMM can be used during structure determination or to validate metal binding sites in structural models within the PDB. The functionalities of CMM have recently been greatly enhanced and provide researchers with additional information that can guide modeling decisions. The new version of CMM shows metals in the context of electron density maps and allows for on-the-fly refinement of metal binding sites. The improvements should increase the reproducibility of biomedical research. The web server is available at https://cmm.minorlab.org.', 'Antimicrobial peptides (AMPs) are important components of innate immunity. Here, we report the antimicrobial properties of a peptide derived from the Male fertility factor kl2 (MFF-kl2) protein of ', \"For over 20 years, the OPLS-All Atom (OPLS-AA) force field has been efficiently used in molecular modelling studies of proteins, carbohydrates and nucleic acids. OPLS-AA is successfully applied in computer modelling of many organic compounds, including decane and shorter alkanes, but it fails when employed for longer linear alkanes, whose chemical structure corresponds to hydrocarbon tails in phospholipids constituting cellular membranes. There have been several attempts to address this problem. In this work, we compare the ability to reproduce various condensed phase properties by six distinct sets of force field parameters which can be assigned to phospholipid hydrocarbon chains. In this comparison, we include three alternative sets of the OPLS-AA force field, as well as the commonly used CHARMM C36, Slipids, and Berger lipids' parameters.\", 'Chemerin is a leukocyte attractant, adipokine, and antimicrobial protein abundantly produced in the skin epidermis. Despite the fact that most of the bactericidal activity present in human skin exudates is chemerin-dependent, just how chemerin shapes skin defenses remains obscure. Here we demonstrate that p4, a potent antimicrobial human chemerin peptide derivative, displays killing activity against pathogenic methicillin-resistant ', 'In veterinary medicine, Staphylococcus aureus is associated with a range of mild to severe infections. The high density of livestock in intensive farming systems increases the risk of disease spread and hampers its control and measures of prevention, making S. aureus one of the most important animal pathogens. Multiple-locus variable-number tandem repeat fingerprinting (MLVF) has been successfully applied to the characterization of livestock-associated meticillin-resistant Staphylococcus aureus (MRSA) ST398 but not to the characterization of a wide range of other animal isolates. The objective of the current study was to examine the effectiveness of MLVF for studying S. aureus strains isolated from households, farms and exotic animals in three regions of Poland. MLVF, random amplification of polymorphic DNA (RAPD), spa typing and diagnostic microarrays were compared to determine the most suitable combination of methods for veterinary purposes. MLVF generated results consistent with host and geographic origins, reflecting population structures with a high concordance to spa typing results. MLVF has been proven to be a rapid, highly discriminatory and cost-effective method suitable for molecular typing in veterinary settings.', 'This review summarises high resolution studies on the interface of lamellar lipid bilayers composed of the most typical lipid molecules which constitute the lipid matrix of biomembranes. The presented results were obtained predominantly by computer modelling methods. Whenever possible, the results were compared with experimental results obtained for similar systems. The first and main section of the review is concerned with the bilayer-water interface and is divided into four subsections. The first describes the simplest case, where the interface consists only of lipid head groups and water molecules and focuses on interactions between the lipid heads and water molecules; the second describes the interface containing also mono- and divalent ions and concentrates on lipid-ion interactions; the third describes direct inter-lipid interactions. These three subsections are followed by a discussion on the network of direct and indirect inter-lipid interactions at the bilayer interface. The second section summarises recent computer simulation studies on the interactions of antibacterial membrane active compounds with various models of the bacterial outer membrane. This article is part of a Special Issue entitled: Biosimulations edited by Ilpo Vattulainen and Tomasz Róg.', 'Secretory leukocyte protease inhibitor (SLPI), a ∼12kDa nonglycosylated cationic protein, is emerging as an important regulator of innate and adaptive immunity and as a component of tissue regenerative programs. First described as an inhibitor of serine proteases such as neutrophil elastase, this protein is increasingly recognized as a molecule that benefits the host via its anti-proteolytic, anti-microbial and immunomodulatory activities. Here, we discuss the diverse functions of SLPI. Moreover, we review several novel layers of SLPI-mediated control that protect the host from excessive/dysregulated inflammation typical of infectious, allergic and autoinflammatory diseases and that support healing responses through affecting cell proliferation, differentiation and apoptosis.', 'Lipid A is the most chemically invariant part of lipopolysaccharides (LPS). Both lipid A and LPS constitute the external layer of the outer membrane of Gram-negative bacteria. E. coli-specific hexacyl lipid A (ECLA) forms stable bilayers in the presence of sodium or magnesium cations. To characterize biologically relevant properties of the ECLA bilayer, and in particular its water/membrane interface, 800 ns molecular dynamics (MD) simulations of fully hydrated bilayers made of ECLA at 50 °C (i.e., 6 °C above the main phase transition) were performed. The validation of the computer model for the ECLA bilayer was performed using available experimental data. The overall good agreement with the data was found. An ECLA molecule makes on average ∼1.3 ion-mediated bridges with neighboring lipid molecules. The average number of interlipid hydrogen bonds is 2.7. The abundance of such intermolecular links results in tight packing of ECLA molecules in the bilayer and explains the relatively small value of the surface area per lipid (1.515 nm(2)).', 'The DMG-α library grants researchers in the field of computational biology, chemistry, and biophysics access to an open-sourced, easy to use, and intuitive software for performing fine-grained geometric analysis of molecular systems. The library is capable of computing power diagrams (weighted Voronoi diagrams) in three dimensions with 3D periodic boundary conditions, computing approximate projective 2D Voronoi diagrams on arbitrarily defined surfaces, performing shape properties recognition using α-shape theory and can do exact Solvent Accessible Surface Area (SASA) computation. The software is written mainly as a template-based C++ library for greater performance, but a rich Python interface (pydmga) is provided as a convenient way to manipulate the DMG-α routines. To illustrate possible applications of the DMG-α library, we present results of sample analyses which allowed to determine nontrivial geometric properties of two Escherichia coli-specific lipids as emerging from molecular dynamics simulations of relevant model bilayers.', 'Chemerin is a widely distributed multifunctional secreted protein implicated in immune cell migration, adipogenesis, osteoblastogenesis, angiogenesis, myogenesis, and glucose homeostasis. Chemerin message is regulated by nuclear receptor agonists, metabolic signaling proteins and intermediates, and proinflammatory cytokines. Following translation chemerin is secreted as an inactive pro-protein, and its secretion can be regulated depending on cell type. Chemerin bioactivity is largely dependent on carboxyl-terminal proteolytic processing and removal of inhibitory residues. Chemerin is abundant in human epidermis where it is well-placed to provide barrier protection. In host defense, chemerin plays dual roles as a broad spectrum antimicrobial protein and as a leukocyte attractant for macrophages, dendritic cells, and NK cells. Here we review the mechanisms underlying chemerin regulation and its function in host defense.', 'OPLS All-Atom (OPLS/AA) is a generic all-atom force field which was fine-tuned to accurately reproduce condensed phase properties of organic liquids. Its application in modeling of lipid membranes is, however, limited mainly due to the inability to correctly describe phase behavior and organization of the hydrophobic core of the model lipid bilayers. Here we report new OPLS/AA parameters for n-pentadecane, methyl acetate, and dimethyl phosphate anion. For the new force field parameters, we show very good agreement between calculated and numerous reference data, including liquid density, enthalpy of vaporization, free energy of hydration, and selected transport properties. The new OPLS/AA parameters have been used in successful submicrosecond MD simulations of bilayers made of bacterial glycolipids whose results will be published elsewhere shortly.', 'Chemerin, a chemoattractant ligand for chemokine-like receptor 1 (CMKLR1) is predicted to share similar tertiary structure with antibacterial cathelicidins. Recombinant chemerin has antimicrobial activity. Here we show that endogenous chemerin is abundant in human epidermis, and that inhibition of bacteria growth by exudates from organ cultures of primary human skin keratinocytes is largely chemerin-dependent. Using a panel of overlapping chemerin-derived synthetic peptides, we demonstrate that the antibacterial activity of chemerin is primarily mediated by Val(66)-Pro(85), which causes direct bacterial lysis. Therefore, chemerin is an antimicrobial agent in human skin.', 'Lutein is present in the human retina and lens, where it plays a protective role. As lutein is associated with the lipid matrix of biomembranes, the role depends on its membrane location. Experimental studies predicted two orientations of lutein in a phosphatidylcholine (PC) bilayer: vertical and horizontal. Using a molecular dynamics simulation, we observed, in two different PC bilayers, both orientations of lutein, and in each bilayer, a single change from vertical to horizontal orientation or vice versa. Both orientations were stabilized by hydrogen bonding of lutein OH groups with mainly carbonyl but also phosphate oxygen atoms of PC.', 'Dethiobiotin synthetase (DTBS) is involved in the biosynthesis of biotin in bacteria, fungi, and plants. As humans lack this pathway, DTBS is a promising antimicrobial drug target. We determined structures of DTBS from Helicobacter pylori (hpDTBS) bound with cofactors and a substrate analog, and described its unique characteristics relative to other DTBS proteins. Comparison with bacterial DTBS orthologs revealed considerable structural differences in nucleotide recognition. The C-terminal region of DTBS proteins, which contains two nucleotide-recognition motifs, differs greatly among DTBS proteins from different species. The structure of hpDTBS revealed that this protein is unique and does not contain a C-terminal region containing one of the motifs. The single nucleotide-binding motif in hpDTBS is similar to its counterpart in GTPases; however, isothermal titration calorimetry binding studies showed that hpDTBS has a strong preference for ATP. The structural determinants of ATP specificity were assessed with X-ray crystallographic studies of hpDTBS·ATP and hpDTBS·GTP complexes. The unique mode of nucleotide recognition in hpDTBS makes this protein a good target for H. pylori-specific inhibitors of the biotin synthesis pathway.', 'Surface lysine methylation (SLM) is a technique for improving the rate of success of protein crystallization by chemically methylating lysine residues. The exact mechanism by which SLM enhances crystallization is still not clear. To study these mechanisms, and to analyze the conditions where SLM will provide the optimal benefits for rescuing failed crystallization experiments, we compared 40 protein structures containing N,N-dimethyl-lysine (dmLys) to a nonredundant set of 18,972 nonmethylated structures from the PDB. By measuring the relative frequency of intermolecular contacts (where contacts are defined as interactions between the residues in proximity with a distance of 3.5 A or less) of basic residues in the methylated versus nonmethylated sets, dmLys-Glu contacts are seen more frequently than Lys-Glu contacts. Based on observation of the 10 proteins with both native and methylated structures, we propose that the increased rate of contact for dmLys-Glu is due to both a slight increase in the number of amine-carboxyl H-bonds and to the formation of methyl C--H...O interactions. By comparing the relative contact frequencies of dmLys with other residues, the mechanism by which methylation of lysines improves the formation of crystal contacts appears to be similar to that of Lys to Arg mutation. Moreover, analysis of methylated structures with the surface entropy reduction (SER) prediction server suggests that in many cases SLM of predicted SER sites may contribute to improved crystallization. Thus, tools that analyze protein sequences and mark residues for SER mutation may identify proteins with good candidate sites for SLM.', \"In human monocyte-derived macrophages, the MCPIP gene (monocyte chemoattractant protein-induced protein) is strongly activated by interleukin-1beta (IL-1beta). Using bioinformatics, a PIN domain was identified, spanning amino acids 130-280; such domains are known to possess structural features of RNases. Recently, RNase properties of MCPIP were confirmed on transcripts coding for interleukins IL-6 and IL-12p40. Here we present evidence that siRNA-mediated inhibition of the MCPIP gene expression increases the level of the IL-1beta transcript in cells stimulated with LPS, whereas overexpression of MCPIP exerts opposite effects. Cells with an increased level of wild-type MCPIP showed lower levels of IL-1beta mRNA. However, this was not observed when mutant forms of MCPIP, either entirely lacking the PIN domain or with point mutations in this domain, were used. The results of experiments with actinomycin D indicate that lower levels of IL-1beta mRNA are due to shortening of the IL-1beta transcript half-life, and are not related to the presence of AU-rich elements in the 3' UTR. The interaction of the MCPIP with transcripts of both IL-1beta and MCPIP observed in an RNA immunoprecipitation assay suggests that this novel RNase may be involved in the regulation of expression of several genes.\", 'Physicochemical properties of heavy water (D2O) differ to some extent from those of normal water. Substituting D2O for H2O has been shown to affect the structural and dynamic properties of proteins, but studies of its effects on lipid bilayers are scarce. In this paper, the atomic level molecular dynamics (MD) simulation method was used to determine the effects of this substitution on the properties of a dipalmitoylphosphatidylcholine (DPPC) bilayer and its hydrating water. MD simulations of two DPPC bilayers, one fully hydrated with H2O and the other with D2O, were carried out for over 50 ns. For H2O, the simple point charge (SPC) model was used, and for D2O, the extended SPC-HW model was employed. Analyses of the simulation trajectories indicate that several properties of the membrane core and the membrane/water interface are affected by replacing H2O by D2O. However, the time-averaged properties, such as membrane compactness, acyl chain order, and numbers of PC-water H (D)-bonds and PC-PC water bridges, are much less affected than time-resolved properties. In particular, the lifetimes of these interactions are much longer for D2O molecules than for H2O ones. These longer lifetimes results in a slightly better ordering of the D2O molecules and average self-diffusion, which is 50% slower compared with the H2O molecules. This large isotope effect has been assigned to the repercussions of the longer lived D-bonding to DPPC headgroups insofar as all water molecules sense the presence of the DPPC bilayer.', 'A molecular dynamics simulation study of four lipid bilayers with inserted trans-membrane helical fragment of epithelial growth factor (EGF) receptor (EGF peptide) was performed. The lipid bilayers differ in their lipid composition and consist of (i) unsaturated phosphatidylcholine (palmitoyloleoylphosphatidylcholine, POPC), (ii) POPC and 20 mol% of cholesterol (Chol), (iii) sphingomyelin (SM) and 20 mol% of Chol, and (iv) SM and 50 mol% of Chol. Only 1 out of 26 residues in the EGF-peptide sequence is polar (Thr). The hydrophobic thickness of each bilayer is different but shorter than the length of the peptide and so, due to hydrophobic mismatch, the inserted peptide is tilted in each bilayer. Additionally, in the POPC bilayer, which is the thinnest, the peptide loses its helical structure in a short three-amino acid fragment. This facilitates bending of the peptide and burying all hydrophobic amino acids inside the membrane core (Figure 1(b)). Bilayer lipid composition affects interactions between the peptide and lipids in the membrane core. Chol increases packing of atoms relative to the peptide side chains, and thus increases van der Waals interactions. On average, the packing around the peptide is higher in SM-based bilayers than POPC-based bilayers but for certain amino acids, packing depends on their position relative to the bilayer center. In the bilayer center, packing is higher in POPC-based bilayers, while in regions closer to the interface packing is higher in SM-based bilayers. In general, amino acids with larger side chains interact strongly with lipids, and thus the peptide sequence is important for the pattern of interactions at different membrane depths. This pattern closely resembles the shape of recently published lateral pressure profiles [Ollila et alJ. Struct. Biol. DOI:10.1016/j.jsb.2007.01.012].', 'Atomistic molecular dynamics simulations of fully hydrated 1-palmitoyl-2-oleoyl-phosphatidylcholine (POPC), 1-palmitoyl-2-oleoyl-phosphatidylethanolamine (POPE), and 1-palmitoyl-2-oleoyl-phosphatidylglycerol (POPG) bilayers in the liquid-crystalline state were carried out to investigate the effect of different lipid headgroups on the dynamics of water at the bilayer surface in short 80 ps time scales. Results obtained in these studies show that the hydrogen bonding amine group of POPE and the glycerol group of POPG slow water motion more than the equivalent choline group of POPC. Therefore, it is surprising that the effect of a POPC bilayer surface on water dynamics is similar to that of POPE and POPG bilayers. That result is due to a much higher number of water molecules interacting with the choline group of POPC than hydrogen-bonded molecules interacting with amine or glycerol groups of POPE and POPG.', 'A series of multi-nanosecond molecular dynamics (MD) simulations of wild-type cytochrome c and its spin-labeled variants with the methanethiosulfonate moiety attached at position C102 were performed (1) to elucidate the effect of the spin probe presence on the protein structure and (2) to describe the structure and dynamics of the spin-label moiety. Comparisons with the reference crystal structure of cytochrome c (PDB entry: 1YCC) indicate that the protein secondary structure is well preserved during simulations of the wild-type cytochrome c but slightly changed in simulations of the cytochrome c labeled at position C102. At the time scale covered in our simulations, the spin label exhibits highly dynamical behavior. The number of observed distinct conformations of the spin label moiety is between 3 and 13. The spin probe was found to form short-lived hydrogen bonds with the protein. Temporary hydrophobic interactions between the probe and the protein were also detected. The MD simulations directly show that the disulfide bond in the tether linking a spin probe with a protein strongly influence the behavior of the nitroxide group. The conformational flexibility and interaction with the protein are different for each of the two low energy conformations of the disulfide bond.', \"Regulatory regions of genes encoding milk proteins are frequently used to produce in the mammary gland of transgenic animals a variety of pharmaceutically and medically important human proteins. One such example is the whey acidic protein (WAP) promoter region, identified so far in the genome of mouse, rat, rabbit, camel, pig, brushtail possum and Tammar wallaby. The aim of the present study was cloning and characterization of the 5' upstream promoter region of rat WAP gene. Using Genome Walking procedure, we cloned the region extending from -849 to -3671 bp. We have shown that there are two conserved regions highly similar to hypersensitive sites present in mouse and rabbit upstream region of WAP gene with binding sites for STAT5 transcription factor, essential for expression of WAP gene in mammary glands during lactation. We characterized dispersed and tandem repeats in the upstream region of rat WAP gen localized not far away from the translation initiation site.\", 'Phosphatidylethanolamine (PE) and phosphatidylglycerol (PG) are the main lipid components of the inner bacterial membrane. A computer model for such a membrane was built of palmitoyloleoyl PE (POPE) and palmitoyloleoyl PG (POPG) in the proportion 3:1, and sodium ions (Na+) to neutralize the net negative charge on each POPG (POPE-POPG bilayer). The bilayer was simulated for 25 ns. A final 10-ns trajectory fragment was used for analyses. In the bilayer interfacial region, POPEs and POPGs interact readily with one another via intermolecular hydrogen (H) bonds and water bridges. POPE is the main H-bond donor in either PEPE or PEPG H-bonds; PGPG H-bonds are rarely formed. Almost all POPEs are H-bonded and/or water bridged to either POPE or POPG but PE-PG links are favored. In effect, the atom packing in the near-the-interface regions of the bilayer core is tight. Na+ does not bind readily to lipids, and interlipid links via Na+ are not numerous. Although POPG and POPE comprise one bilayer, their bilayer properties differ. The average surface area per POPG is larger and the average vertical location of the POPG phosphate group is lower than those of POPE. Also, the alkyl chains of POPG are more ordered and less densely packed than the POPE chains. The main conclusion of this study is that in the PE-PG bilayer PE interacts more strongly with PG than with PE. This is a likely molecular-level event behind a regulating mechanism developed by the bacteria to control its membrane permeability and stability consisting in changes of the relative PG/PE concentration in the membrane.', 'Molecular dynamics simulations of two monounsaturated phosphatidylcholine (PC) bilayers made of 1-palmitoyl-2-oleoyl-PC (POPC; cis-unsaturated) and 1-palmitoyl-2-elaidoyl-PC (PEPC; trans-unsaturated) were carried out to investigate the effect of a double bond in the PC beta-chain and its conformation on the bilayer core. Four nanosecond trajectories were used for analyses. A fully saturated 1,2-dimyristoyl-PC (DMPC) bilayer was used as a reference system. In agreement with experimental data, this study shows that properties of the PEPC bilayer are more similar to those of the DMPC than to the POPC bilayer. The differences between POPC and PEPC bilayers may be attributed to the different ranges of angles covered by the torsion angles beta10 and beta12 of the single bonds next to the double bond in the oleoyl (O) and elaidoyl (E) chains. Broader distributions of beta10 and beta12 in the E chain than in the O chain make the E chain more flexible. In effect, the packing of chains in the PEPC bilayer is similar to that in the DMPC bilayer, whereas that in the POPC bilayer is looser than that in the DMPC bilayer. The effect of the cis-double bond on torsions at the beginning of the O chain (beta4 and beta5) is similar to that of cholesterol on these torsions in a myristoyl chain.', 'Molecular dynamics (MD) simulations complement experimental methods in studies of the structure and dynamics of lipid bilayers. The choice of algorithms employed in this computational method represents a trade-off between the accuracy and real calculation time. The largest portion of the simulation time is devoted to calculation of long-range electrostatic interactions. To speed-up evaluation of these interactions, various approximations have been used. The most common ones are the truncation of long-range interactions with the use of cut-offs, and the particle-mesh Ewald (PME) method. In this study, several multi-nanosecond cut-off and PME simulations were performed to establish the influence of the simulation protocol on the bilayer properties. Two bilayers were used. One consisted of neutral phosphatidylcholine molecules. The other was a mixed lipid bilayer consisting of neutral phosphatidylethanolamine and negatively charged phosphatidylglycerol molecules. The study shows that the cut-off simulation of a bilayer containing charge molecules generates artefacts; in particular the mobility and order of the charged molecules are vastly different from those determined experimentally. In the PME simulation, the bilayer properties are in general agreement with experimental data. The cut-off simulation of bilayers containing only uncharged molecules does not generate artefacts, nevertheless, the PME simulation gives generally better agreement with experimental data.', \"Magainins are natural peptides that selectively kill bacteria at concentrations that are harmless to animal cells. Due to a positive charge and distinct hydrophobic moment, magainins in the alpha-helical conformation interact favorably with bacterial membrane lipids. These interactions lead to the formation of large openings in the membrane and to the cell's death. The openings (toroidal pores) are supramolecular structures consisting of lipid and peptide molecules. A computer model of the pore in a bacterial membrane was constructed (see Figure) for the study of the molecular basis for magainin selectivity and specificity. Details of the construction and the preliminary equilibration of the pore model are given in this paper.\"]\n",
      "File created successfully!\n"
     ]
    }
   ],
   "source": [
    "#Zadanie2:\n",
    "#Ile razy słowo \"molecule\" wystąpiło we wszystkich abstraktach prac autorstwa lub współautorstwa Krzysztofa Murzyna?\n",
    "abs_list=[]\n",
    "for xml in xml_list:\n",
    "    resultelements2= xml.xpath(\"//AbstractText\") \n",
    "\n",
    "\n",
    "    for element in resultelements2:\n",
    "        abs_list.append(element.text)\n",
    "    \n",
    "print(len(abs_list),abs_list)\n",
    "\n",
    "with open(\"abs_list.txt\", \"w\") as file:\n",
    "    # Write each item in the list to the file\n",
    "    for item in abs_list:\n",
    "        file.write(item + \"\\n\")  # Add a newline after each item\n",
    "\n",
    "print(\"File created successfully!\")\n",
    "\n"
   ]
  },
  {
   "cell_type": "code",
   "execution_count": 8,
   "metadata": {},
   "outputs": [
    {
     "name": "stdout",
     "output_type": "stream",
     "text": [
      "23\n"
     ]
    }
   ],
   "source": [
    "import re\n",
    "f = open(\"abs_list.txt\", \"r\")  \n",
    "g = f.read()\n",
    "f.close()\n",
    "\n",
    "t=len(re.findall(\"molecule\", g))\n",
    "print(t)\n"
   ]
  }
 ],
 "metadata": {
  "kernelspec": {
   "display_name": "base",
   "language": "python",
   "name": "python3"
  },
  "language_info": {
   "codemirror_mode": {
    "name": "ipython",
    "version": 3
   },
   "file_extension": ".py",
   "mimetype": "text/x-python",
   "name": "python",
   "nbconvert_exporter": "python",
   "pygments_lexer": "ipython3",
   "version": "3.12.4"
  }
 },
 "nbformat": 4,
 "nbformat_minor": 2
}
