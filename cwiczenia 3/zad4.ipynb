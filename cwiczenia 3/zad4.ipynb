{
 "cells": [
  {
   "cell_type": "code",
   "execution_count": 2,
   "metadata": {},
   "outputs": [
    {
     "data": {
      "image/png": "[encoded data removed]",
      "text/plain": [
       "<IPython.core.display.Image object>"
      ]
     },
     "execution_count": 2,
     "metadata": {},
     "output_type": "execute_result"
    }
   ],
   "source": [
    "#Zadanie4:\n",
    "#Pobierz w formacie SMILES informację o strukturze Lopinavir'u (inhibiora proteazy HIV). \n",
    "#Jeżeli to możliwe, wykonaj wizualizaję tej struktury. Jaka jest masa tej molekuły?\n",
    "\n",
    "from urllib.request import urlretrieve\n",
    "from IPython.display import Image  #do wyswietlania obrazka\n",
    "\n",
    "smiles = 'CC1=C(C(=CC=C1)C)OCC(=O)N[C@@H](CC2=CC=CC=C2)[C@H](C[C@H](CC3=CC=CC=C3)NC(=O)[C@H](C(C)C)N4CCCNC4=O)O'\n",
    "urlretrieve('https://pubchem.ncbi.nlm.nih.gov/rest/pug/compound/smiles/'+smiles+'/PNG', 'smi_pic.png')\n",
    "p = Image(filename='smi_pic.png')\n",
    "p"
   ]
  },
  {
   "cell_type": "code",
   "execution_count": 3,
   "metadata": {},
   "outputs": [],
   "source": [
    "from urllib.request import urlopen\n",
    "from lxml import etree\n",
    "\n",
    "#zapytanie/pobranie i odczytanie pliku XML\n",
    "query = \"https://pubchem.ncbi.nlm.nih.gov/rest/pug/compound/name/lopinavir/XML\"\n",
    "response = urlopen(query)\n",
    "resultxml = response.read()\n",
    "tree = etree.XML(resultxml)"
   ]
  },
  {
   "cell_type": "code",
   "execution_count": 4,
   "metadata": {},
   "outputs": [
    {
     "name": "stdout",
     "output_type": "stream",
     "text": [
      "['{http://www.ncbi.nlm.nih.gov}PC-InfoData_value_sval', '{http://www.ncbi.nlm.nih.gov}PC-Urn_label', '{http://www.ncbi.nlm.nih.gov}PC-Count_atom-chiral-undef', '{http://www.ncbi.nlm.nih.gov}PC-StereoTetrahedral_type']\n"
     ]
    }
   ],
   "source": [
    "tags = list({elem.tag for elem in tree.iter()})\n",
    "\n",
    "print(tags[:4])"
   ]
  },
  {
   "cell_type": "code",
   "execution_count": 5,
   "metadata": {},
   "outputs": [
    {
     "name": "stdout",
     "output_type": "stream",
     "text": [
      "['(2S)-N-[(1S,3S,4S)-1-benzyl-4-[[2-(2,6-dimethylphenoxy)acetyl]amino]-3-hydroxy-5-phenyl-pentyl]-3-methyl-2-(2-oxohexahydropyrimidin-1-yl)butanamide', '(2S)-N-[(2S,4S,5S)-5-[[2-(2,6-dimethylphenoxy)-1-oxoethyl]amino]-4-hydroxy-1,6-diphenylhexan-2-yl]-3-methyl-2-(2-oxo-1,3-diazinan-1-yl)butanamide', '(2<I>S</I>)-<I>N</I>-[(2<I>S</I>,4<I>S</I>,5<I>S</I>)-5-[[2-(2,6-dimethylphenoxy)acetyl]amino]-4-hydroxy-1,6-diphenylhexan-2-yl]-3-methyl-2-(2-oxo-1,3-diazinan-1-yl)butanamide', '(2S)-N-[(2S,4S,5S)-5-[[2-(2,6-dimethylphenoxy)acetyl]amino]-4-hydroxy-1,6-diphenylhexan-2-yl]-3-methyl-2-(2-oxo-1,3-diazinan-1-yl)butanamide', '(2S)-N-[(2S,4S,5S)-5-[2-(2,6-dimethylphenoxy)ethanoylamino]-4-oxidanyl-1,6-diphenyl-hexan-2-yl]-3-methyl-2-(2-oxidanylidene-1,3-diazinan-1-yl)butanamide', '(2S)-N-[(1S,3S,4S)-1-benzyl-4-[[2-(2,6-dimethylphenoxy)acetyl]amino]-3-hydroxy-5-phenyl-pentyl]-2-(2-ketohexahydropyrimidin-1-yl)-3-methyl-butyramide', 'InChI=1S/C37H48N4O5/c1-25(2)34(41-20-12-19-38-37(41)45)36(44)39-30(21-28-15-7-5-8-16-28)23-32(42)31(22-29-17-9-6-10-18-29)40-33(43)24-46-35-26(3)13-11-14-27(35)4/h5-11,13-18,25,30-32,34,42H,12,19-24H2,1-4H3,(H,38,45)(H,39,44)(H,40,43)/t30-,31-,32-,34-/m0/s1', 'KJHKTHWMRKYKJE-SUGCFTRWSA-N', '628.36247064', 'C37H48N4O5', '628.8', 'CC1=C(C(=CC=C1)C)OCC(=O)NC(CC2=CC=CC=C2)C(CC(CC3=CC=CC=C3)NC(=O)C(C(C)C)N4CCCNC4=O)O', 'CC1=C(C(=CC=C1)C)OCC(=O)N[C@@H](CC2=CC=CC=C2)[C@H](C[C@H](CC3=CC=CC=C3)NC(=O)[C@H](C(C)C)N4CCCNC4=O)O', '628.36247064']\n"
     ]
    }
   ],
   "source": [
    "sek = []\n",
    "for element in tree.iter():\n",
    "    if element.tag == \"{http://www.ncbi.nlm.nih.gov}PC-InfoData_value_sval\":\n",
    "        sek.append(element.text)\n",
    "print(sek)"
   ]
  },
  {
   "cell_type": "code",
   "execution_count": 12,
   "metadata": {},
   "outputs": [
    {
     "data": {
      "image/png": "[encoded data removed]",
      "text/plain": [
       "<IPython.core.display.Image object>"
      ]
     },
     "execution_count": 12,
     "metadata": {},
     "output_type": "execute_result"
    }
   ],
   "source": [
    "#Rysuje strukture aspiryny w oparciu o SMILES\n",
    "\n",
    "from urllib.request import urlretrieve\n",
    "from IPython.display import Image\n",
    "\n",
    "\n",
    "smiles = sek[-2] #bo przedostatni element powyzszej listy zawieral format SMILES\n",
    "urlretrieve('https://pubchem.ncbi.nlm.nih.gov/rest/pug/compound/smiles/'+smiles+'/PNG', 'smi_pic.png')\n",
    "p = Image(filename='smi_pic.png')\n",
    "p"
   ]
  },
  {
   "cell_type": "code",
   "execution_count": 11,
   "metadata": {},
   "outputs": [
    {
     "name": "stdout",
     "output_type": "stream",
     "text": [
      "molecular mass: 628.36247064\n"
     ]
    }
   ],
   "source": [
    "print('molecular mass: ' + sek[8])"
   ]
  }
 ],
 "metadata": {
  "kernelspec": {
   "display_name": "base",
   "language": "python",
   "name": "python3"
  },
  "language_info": {
   "codemirror_mode": {
    "name": "ipython",
    "version": 3
   },
   "file_extension": ".py",
   "mimetype": "text/x-python",
   "name": "python",
   "nbconvert_exporter": "python",
   "pygments_lexer": "ipython3",
   "version": "3.12.4"
  }
 },
 "nbformat": 4,
 "nbformat_minor": 2
}
