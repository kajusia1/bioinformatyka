{
 "cells": [
  {
   "cell_type": "markdown",
   "metadata": {},
   "source": []
  },
  {
   "cell_type": "markdown",
   "metadata": {},
   "source": [
    "<span style=\"font-size:10pt\">&copy; 2019-2024 Michał Bukowski (m.bukowski@uj.edu.pl) ZBA WBBiB UJ</span>"
   ]
  },
  {
   "cell_type": "markdown",
   "metadata": {},
   "source": [
    "---\n",
    "\n",
    "## 1. Przygotowanie środowiska\n",
    "\n",
    "<font size=2>Korzystając z magicznej komendy `!`, utwórz komendą Bash `mkdir` katalogi `dbs` i `output`. Po prostu podaj wszystkie ścieżki/nazwy katalogów oddzielone spacjami po wpisaniu samej komendy. Możesz skorzystać z paramteru `-p`, aby uniknąć pojawiania się błędu, gdy katalogi już istnieją (np. w trakcie ponownego uruchomienia kodu całego notatnika).\n",
    "</font>"
   ]
  },
  {
   "cell_type": "code",
   "execution_count": 1,
   "metadata": {},
   "outputs": [
    {
     "name": "stderr",
     "output_type": "stream",
     "text": [
      "A subdirectory or file -p already exists.\n",
      "Error occurred while processing: -p.\n",
      "A subdirectory or file db already exists.\n",
      "Error occurred while processing: db.\n",
      "A subdirectory or file output already exists.\n",
      "Error occurred while processing: output.\n"
     ]
    }
   ],
   "source": [
    "!mkdir -p db output"
   ]
  },
  {
   "cell_type": "markdown",
   "metadata": {},
   "source": [
    "---\n",
    "\n",
    "## 2. BLAST: tworzenie bazy danych\n"
   ]
  },
  {
   "cell_type": "markdown",
   "metadata": {},
   "source": [
    "#### Narzędzie _makeblastdb_ i tworzenie bazy danych z wykorzystaniem przekierowania do _stdin_\n",
    "\n",
    "<font size=2>Wiedząc, że w powłoce tekstowej Bash:\n",
    "\n",
    "* wyjście standardowe (<i>standard output</i>, <i>stdout</i>) domyślnie jest tym co widzisz na ekranie\n",
    "* _stdout_ z jednej aplikacji można przekierować do wejścia standardowego (<i>standard input</i>, <i>stdin</i>) do innej znakiem `|`,\\\n",
    "np.: `app1 | app2`\n",
    "* aplikacja `cat plik1.txt plik2.txt ...` kopiuje do <i>stdout</i> zawartość pliku(ów)\n",
    "* nazwy wielu plików o takim samym wzorcu nazwy można zastępować wyrażeniem zastępczym (<i>wildcard</i>),\\\n",
    "np.: `cat *.txt`\n",
    "* aby utworzyć nukleotydową bazę danych narzędziem `makeblastdb` należy podać mu przynajmniej trzy parametry: `-in` ścieżkę do pliku z sekwencjami w formacie fasta, `-dbtype` <i>nucl</i> w przypadku sekwencji nukleotydowych i `-out` ścieżkę do katalogu wraz z prefiksem nazw plików tworzonej bazy danych\n",
    "* parametr `-in` przyjmuje tylko jeden plik, można go pominąć a wtedy `makeblastdb` będzie odczytywało dane ze strumienia <i>stdin</i>\n",
    "\n",
    "i korzystając z odpowiedniej `%%magicznej komendy` wpisz i uruchom w poniższej komórce kod Bash, który aplikacją `cat` wrzuci zawartość plików `*.fna` z katalogu `genomes` do <i>stdout</i> i przekieruje je do <i>stdin</i> `makeblastdb` celem utworzenia nukleotydowej bazy danych `genomes` w katalogu `dbs`\n",
    "\\\n",
    "\\\n",
    "Następnie dopisz linię `ls -l dbs`, która wyświetli zawartość katalogu `dbs`\n",
    "\n",
    "</font>"
   ]
  },
  {
   "cell_type": "code",
   "execution_count": 7,
   "metadata": {},
   "outputs": [
    {
     "name": "stdout",
     "output_type": "stream",
     "text": [
      "\n",
      "\n",
      "Building a new DB, current time: 10/28/2024 13:51:39\n",
      "New DB name:   /mnt/c/Users/Acer/Desktop/bioinfa/bioinf ćw/cw 2/dbs/genomes\n",
      "New DB title:  Nucleotide db\n",
      "Sequence type: Nucleotide\n",
      "Keep MBits: T\n",
      "Maximum file size: 1000000000B\n",
      "Adding sequences from FASTA; added 222 sequences in 0.338789 seconds.\n",
      "\n",
      "\n",
      "total 6792\n",
      "-rwxrwxrwx 1 root root   20480 Oct 28 13:51 genomes.ndb\n",
      "-rwxrwxrwx 1 root root   43232 Oct 28 13:51 genomes.nhr\n",
      "-rwxrwxrwx 1 root root    2764 Oct 28 13:51 genomes.nin\n",
      "-rwxrwxrwx 1 root root    2672 Oct 28 13:51 genomes.not\n",
      "-rwxrwxrwx 1 root root 6857061 Oct 28 13:51 genomes.nsq\n",
      "-rwxrwxrwx 1 root root   16384 Oct 28 13:51 genomes.ntf\n",
      "-rwxrwxrwx 1 root root     892 Oct 28 13:51 genomes.nto\n"
     ]
    }
   ],
   "source": [
    "%%bash\n",
    "cat genomes/*.fna | makeblastdb -dbtype nucl -out dbs/genomes -title \"Nucleotide db\"\n",
    "ls -l dbs\n",
    "\n",
    "#cat genomes/*.fna - wczytanie zawartości wszystkich plików .fna z katalogu genomes i wysłanie ich do stdout.\n",
    "#| makeblastdb -dbtype nucl -out dbs/genomes - Przekierowanie danyhc z stdout do stdin narzędzia makeblastdb, tworząc bazę danych nukleotydową o nazwie genomes w katalogu dbs.\n",
    "#ls -l dbs: Wyświetlanie szczegółowej listę zawartości katalogu dbs, aby sprawdzić, czy baza danych została utworzona poprawnie.\n"
   ]
  },
  {
   "cell_type": "markdown",
   "metadata": {},
   "source": [
    "---\n",
    "\n",
    "## 3. BLAST: przeszukiwanie bazy danych\n",
    "<font size=2>Następnie w kolejnej komórce wpisz i uruchom narzędzie `blastn`, podając jako sekwencję _query_ ścieżkę do pliku `input/gap.fna`, jako bazę danych, ścieżkę do tej dopiero utworzonej, a wyniki zapisz do pliku `output/blastn.txt`. Nie zapomnij o odpowiedniej `%%magicznej komendzie`, która pozwoli Ci uruchomić zawartość całej komórki jako kod Bash.\n",
    "\\\n",
    "\\\n",
    "Następnie dopisz linię `head -25 output/blast.txt`, która wyświetli pierwszych 25 linii pliku z wynikami.\n",
    "\\\n",
    "\\\n",
    "Na koniec przejdź do ekranu głównego Jupytera, wejdź do katalogu `output`, otwórz i przeglądnij całą zawartość pliku `blastn.txt`.</font>"
   ]
  },
  {
   "cell_type": "code",
   "execution_count": 9,
   "metadata": {},
   "outputs": [
    {
     "name": "stdout",
     "output_type": "stream",
     "text": [
      "BLASTN 2.12.0+\n",
      "\n",
      "\n",
      "Reference: Zheng Zhang, Scott Schwartz, Lukas Wagner, and Webb\n",
      "Miller (2000), \"A greedy algorithm for aligning DNA sequences\", J\n",
      "Comput Biol 2000; 7(1-2):203-14.\n",
      "\n",
      "\n",
      "\n",
      "Database: Nucleotide db\n",
      "           222 sequences; 27,426,152 total letters\n",
      "\n",
      "\n",
      "\n",
      "Query= gap\n",
      "\n",
      "Length=1011\n",
      "                                                                      Score     E\n",
      "Sequences producing significant alignments:                          (Bits)  Value\n",
      "\n",
      "UDMK01000001.1 Staphylococcus aureus strain EOE252 genome assembl...  1851    0.0  \n",
      "UDIR01000001.1 Staphylococcus aureus strain EOE046 genome assembl...  1851    0.0  \n",
      "UHCG01000001.1 Staphylococcus aureus strain NCTC9553 genome assem...  1851    0.0  \n",
      "OGBR01000034.1 Staphylococcus aureus strain RH238 genome assembly...  1851    0.0  \n",
      "FQKY01000001.1 Staphylococcus argenteus strain 3688STDY6125110 ge...  1757    0.0  \n"
     ]
    }
   ],
   "source": [
    "%%bash\n",
    "blastn -query input/gap.fna -db dbs/genomes -out output/blastn.txt\n",
    "head -25 output/blastn.txt\n",
    "\n"
   ]
  },
  {
   "cell_type": "markdown",
   "metadata": {},
   "source": [
    "---\n",
    "\n",
    "## 4. BLAST: otrzymywanie wyników w formacie tabelarycznym\n",
    "<font size=2>Skpiuj kod z poprzedniej komórki i zmodyfikuj go tak, aby narzędzie `blastn` zapisało wyniki w formie tabelarycznej do pliku `output/blast.tsv` z tabulatorem jako sepratorem kolumn i z kolumnami `sseqid sstart send qcovs pident evalue`. Do jakich wartości odnoszą się te kolumny? Jeżeli nie wiesz, w terminalu tekstowym wpisz `blastn -help` i sprawdź.\n",
    "\\\n",
    "\\\n",
    "Komendą `head` wyświetl tylko 5 pierwszych linii z pliku z wynikami.\n",
    "\\\n",
    "\\\n",
    "Na koniec przejdź do ekranu głównego Jupytera, wejdź do katalogu `output`, otwórz i przeglądnij całą zawartość pliku `blastn.tsv`."
   ]
  },
  {
   "cell_type": "code",
   "execution_count": 12,
   "metadata": {},
   "outputs": [
    {
     "name": "stdout",
     "output_type": "stream",
     "text": [
      "UDMK01000001.1\t276652\t277662\t100\t99.703\t0.0\n",
      "UDIR01000001.1\t129950\t128940\t100\t99.703\t0.0\n",
      "UHCG01000001.1\t795488\t796498\t100\t99.703\t0.0\n",
      "OGBR01000034.1\t321008\t322018\t100\t99.703\t0.0\n",
      "FQKY01000001.1\t1106566\t1105556\t100\t98.022\t0.0\n"
     ]
    }
   ],
   "source": [
    "%%bash\n",
    "blastn -query input/gap.fna -db dbs/genomes -out output/blastn.tsv -outfmt \"6 sseqid sstart send qcovs pident evalue\"\n",
    "head -5 output/blastn.tsv\n",
    "\n"
   ]
  },
  {
   "cell_type": "markdown",
   "metadata": {},
   "source": [
    "sseqid: ID dopasowanej sekwencji. \\\n",
    "sstart: Początek dopasowania na sekwencji odniesienia. \\\n",
    "send: Koniec dopasowania na sekwencji odniesienia. \\\n",
    "qcovs: Pokrycie sekwencji zapytania (%). \\\n",
    "pident: Procent identycznych dopasowań. \\\n",
    "evalue: Prawdopodobieństwo przypadkowego dopasowania (im mniejsze, tym lepiej)."
   ]
  },
  {
   "cell_type": "markdown",
   "metadata": {},
   "source": [
    "---\n",
    "\n",
    "## 5. Pandas: przetwarzanie wyników BLAST\n",
    "\n",
    "<font size=2>Aby wykonać kolejne kroki, wykorzystaj prezentację z ostatniego wykładu jako pomoc.</font>"
   ]
  },
  {
   "cell_type": "code",
   "execution_count": 13,
   "metadata": {},
   "outputs": [],
   "source": [
    "# zaimportuj moduł pandas pod nazwą 'pd'\n",
    "\n",
    "import pandas as pd\n"
   ]
  },
  {
   "cell_type": "code",
   "execution_count": 27,
   "metadata": {},
   "outputs": [
    {
     "data": {
      "text/html": [
       "<div>\n",
       "<style scoped>\n",
       "    .dataframe tbody tr th:only-of-type {\n",
       "        vertical-align: middle;\n",
       "    }\n",
       "\n",
       "    .dataframe tbody tr th {\n",
       "        vertical-align: top;\n",
       "    }\n",
       "\n",
       "    .dataframe thead th {\n",
       "        text-align: right;\n",
       "    }\n",
       "</style>\n",
       "<table border=\"1\" class=\"dataframe\">\n",
       "  <thead>\n",
       "    <tr style=\"text-align: right;\">\n",
       "      <th></th>\n",
       "      <th>sseqid</th>\n",
       "      <th>sstart</th>\n",
       "      <th>send</th>\n",
       "      <th>qcovs</th>\n",
       "      <th>pident</th>\n",
       "      <th>evalue</th>\n",
       "    </tr>\n",
       "  </thead>\n",
       "  <tbody>\n",
       "    <tr>\n",
       "      <th>0</th>\n",
       "      <td>UDMK01000001.1</td>\n",
       "      <td>276652</td>\n",
       "      <td>277662</td>\n",
       "      <td>100</td>\n",
       "      <td>99.703</td>\n",
       "      <td>0.0</td>\n",
       "    </tr>\n",
       "    <tr>\n",
       "      <th>1</th>\n",
       "      <td>UDIR01000001.1</td>\n",
       "      <td>129950</td>\n",
       "      <td>128940</td>\n",
       "      <td>100</td>\n",
       "      <td>99.703</td>\n",
       "      <td>0.0</td>\n",
       "    </tr>\n",
       "    <tr>\n",
       "      <th>2</th>\n",
       "      <td>UHCG01000001.1</td>\n",
       "      <td>795488</td>\n",
       "      <td>796498</td>\n",
       "      <td>100</td>\n",
       "      <td>99.703</td>\n",
       "      <td>0.0</td>\n",
       "    </tr>\n",
       "    <tr>\n",
       "      <th>3</th>\n",
       "      <td>OGBR01000034.1</td>\n",
       "      <td>321008</td>\n",
       "      <td>322018</td>\n",
       "      <td>100</td>\n",
       "      <td>99.703</td>\n",
       "      <td>0.0</td>\n",
       "    </tr>\n",
       "    <tr>\n",
       "      <th>4</th>\n",
       "      <td>FQKY01000001.1</td>\n",
       "      <td>1106566</td>\n",
       "      <td>1105556</td>\n",
       "      <td>100</td>\n",
       "      <td>98.022</td>\n",
       "      <td>0.0</td>\n",
       "    </tr>\n",
       "    <tr>\n",
       "      <th>5</th>\n",
       "      <td>FQRR01000001.1</td>\n",
       "      <td>1121207</td>\n",
       "      <td>1120197</td>\n",
       "      <td>100</td>\n",
       "      <td>97.923</td>\n",
       "      <td>0.0</td>\n",
       "    </tr>\n",
       "    <tr>\n",
       "      <th>6</th>\n",
       "      <td>AE015929.1</td>\n",
       "      <td>553355</td>\n",
       "      <td>554365</td>\n",
       "      <td>100</td>\n",
       "      <td>89.229</td>\n",
       "      <td>0.0</td>\n",
       "    </tr>\n",
       "    <tr>\n",
       "      <th>7</th>\n",
       "      <td>FKIN01000005.1</td>\n",
       "      <td>1151570</td>\n",
       "      <td>1150579</td>\n",
       "      <td>98</td>\n",
       "      <td>86.847</td>\n",
       "      <td>0.0</td>\n",
       "    </tr>\n",
       "    <tr>\n",
       "      <th>8</th>\n",
       "      <td>LR134263.1</td>\n",
       "      <td>2257955</td>\n",
       "      <td>2256964</td>\n",
       "      <td>98</td>\n",
       "      <td>86.231</td>\n",
       "      <td>0.0</td>\n",
       "    </tr>\n",
       "    <tr>\n",
       "      <th>9</th>\n",
       "      <td>FMPF01000004.1</td>\n",
       "      <td>225112</td>\n",
       "      <td>226103</td>\n",
       "      <td>98</td>\n",
       "      <td>86.014</td>\n",
       "      <td>0.0</td>\n",
       "    </tr>\n",
       "  </tbody>\n",
       "</table>\n",
       "</div>"
      ],
      "text/plain": [
       "           sseqid   sstart     send  qcovs  pident  evalue\n",
       "0  UDMK01000001.1   276652   277662    100  99.703     0.0\n",
       "1  UDIR01000001.1   129950   128940    100  99.703     0.0\n",
       "2  UHCG01000001.1   795488   796498    100  99.703     0.0\n",
       "3  OGBR01000034.1   321008   322018    100  99.703     0.0\n",
       "4  FQKY01000001.1  1106566  1105556    100  98.022     0.0\n",
       "5  FQRR01000001.1  1121207  1120197    100  97.923     0.0\n",
       "6      AE015929.1   553355   554365    100  89.229     0.0\n",
       "7  FKIN01000005.1  1151570  1150579     98  86.847     0.0\n",
       "8      LR134263.1  2257955  2256964     98  86.231     0.0\n",
       "9  FMPF01000004.1   225112   226103     98  86.014     0.0"
      ]
     },
     "execution_count": 27,
     "metadata": {},
     "output_type": "execute_result"
    }
   ],
   "source": [
    "# wczytaj wyniki z pliku output/balstn.tsv do obiektu typu DataFrame\n",
    "# a następnie wyświetl tabelę\n",
    "\n",
    "df = pd.read_csv(\n",
    "    'output/blastn.tsv',\n",
    "    names = 'sseqid sstart send qcovs pident evalue'.split(),\n",
    "    sep = '\\t' \n",
    " )\n",
    "df"
   ]
  },
  {
   "cell_type": "code",
   "execution_count": 28,
   "metadata": {},
   "outputs": [
    {
     "data": {
      "text/html": [
       "<div>\n",
       "<style scoped>\n",
       "    .dataframe tbody tr th:only-of-type {\n",
       "        vertical-align: middle;\n",
       "    }\n",
       "\n",
       "    .dataframe tbody tr th {\n",
       "        vertical-align: top;\n",
       "    }\n",
       "\n",
       "    .dataframe thead th {\n",
       "        text-align: right;\n",
       "    }\n",
       "</style>\n",
       "<table border=\"1\" class=\"dataframe\">\n",
       "  <thead>\n",
       "    <tr style=\"text-align: right;\">\n",
       "      <th></th>\n",
       "      <th>sseqid</th>\n",
       "      <th>sstart</th>\n",
       "      <th>send</th>\n",
       "      <th>qcovs</th>\n",
       "      <th>pident</th>\n",
       "      <th>evalue</th>\n",
       "    </tr>\n",
       "  </thead>\n",
       "  <tbody>\n",
       "    <tr>\n",
       "      <th>0</th>\n",
       "      <td>UDMK01000001.1</td>\n",
       "      <td>276652</td>\n",
       "      <td>277662</td>\n",
       "      <td>100</td>\n",
       "      <td>99.703</td>\n",
       "      <td>0.0</td>\n",
       "    </tr>\n",
       "    <tr>\n",
       "      <th>1</th>\n",
       "      <td>UDIR01000001.1</td>\n",
       "      <td>129950</td>\n",
       "      <td>128940</td>\n",
       "      <td>100</td>\n",
       "      <td>99.703</td>\n",
       "      <td>0.0</td>\n",
       "    </tr>\n",
       "    <tr>\n",
       "      <th>2</th>\n",
       "      <td>UHCG01000001.1</td>\n",
       "      <td>795488</td>\n",
       "      <td>796498</td>\n",
       "      <td>100</td>\n",
       "      <td>99.703</td>\n",
       "      <td>0.0</td>\n",
       "    </tr>\n",
       "    <tr>\n",
       "      <th>3</th>\n",
       "      <td>OGBR01000034.1</td>\n",
       "      <td>321008</td>\n",
       "      <td>322018</td>\n",
       "      <td>100</td>\n",
       "      <td>99.703</td>\n",
       "      <td>0.0</td>\n",
       "    </tr>\n",
       "    <tr>\n",
       "      <th>4</th>\n",
       "      <td>FQKY01000001.1</td>\n",
       "      <td>1106566</td>\n",
       "      <td>1105556</td>\n",
       "      <td>100</td>\n",
       "      <td>98.022</td>\n",
       "      <td>0.0</td>\n",
       "    </tr>\n",
       "    <tr>\n",
       "      <th>5</th>\n",
       "      <td>FQRR01000001.1</td>\n",
       "      <td>1121207</td>\n",
       "      <td>1120197</td>\n",
       "      <td>100</td>\n",
       "      <td>97.923</td>\n",
       "      <td>0.0</td>\n",
       "    </tr>\n",
       "    <tr>\n",
       "      <th>6</th>\n",
       "      <td>AE015929.1</td>\n",
       "      <td>553355</td>\n",
       "      <td>554365</td>\n",
       "      <td>100</td>\n",
       "      <td>89.229</td>\n",
       "      <td>0.0</td>\n",
       "    </tr>\n",
       "  </tbody>\n",
       "</table>\n",
       "</div>"
      ],
      "text/plain": [
       "           sseqid   sstart     send  qcovs  pident  evalue\n",
       "0  UDMK01000001.1   276652   277662    100  99.703     0.0\n",
       "1  UDIR01000001.1   129950   128940    100  99.703     0.0\n",
       "2  UHCG01000001.1   795488   796498    100  99.703     0.0\n",
       "3  OGBR01000034.1   321008   322018    100  99.703     0.0\n",
       "4  FQKY01000001.1  1106566  1105556    100  98.022     0.0\n",
       "5  FQRR01000001.1  1121207  1120197    100  97.923     0.0\n",
       "6      AE015929.1   553355   554365    100  89.229     0.0"
      ]
     },
     "execution_count": 28,
     "metadata": {},
     "output_type": "execute_result"
    }
   ],
   "source": [
    "# utwórz nową tabelę poprzez zachowanie z wyjściowej tabeli\n",
    "# wierszy gdzie wartość kolumny qcovs wynosi 100,\n",
    "# wyświetl ją\n",
    "df_qcovs_100=df[df['qcovs']==100]\n",
    "df_qcovs_100\n",
    "\n",
    "\n"
   ]
  },
  {
   "cell_type": "code",
   "execution_count": 30,
   "metadata": {},
   "outputs": [],
   "source": [
    "# zapisz tabelę z przefiltrowanymi wynikami\n",
    "# do pliku output/filtered.tsv\n",
    "# a następnie z ekranu głównego Jupyter Notebook\n",
    "# wejdź do katalogu output i przeglądaj tak zapisane\n",
    "# wyniki oraz porównaj je z zawartością pliku z\n",
    "# wynikami wyjściowymi\n",
    "df_qcovs_100.to_csv(\n",
    "    'output/filtered.tsv',\n",
    "    index = False,\n",
    "    sep = '\\t'\n",
    " )\n",
    "\n"
   ]
  },
  {
   "cell_type": "markdown",
   "metadata": {},
   "source": [
    "---\n",
    "\n",
    "## 6. Pandas: _DataFrame_ w trybie tekstowym\n",
    "\n",
    "<font size=2>Uruchom terminal tekstowy, przejdź do aktualnego katalogu roboczego komendą Bash `cd ścieżka_katalogu`, uruchom tekstowy interpreter `ipython`, wczytaj tabelę z wyjściowymi wynikami z pliku `blastn.tsv` do struktury DataFrame i przeglądaj ją w trybie tekstowym.\n",
    "\\\n",
    "\\\n",
    "Jeżeli nie pamiętasz ścieżki aktualnego katalogu roboczego, skorzystaj z magicznej komendy `%pwd`.</font>"
   ]
  },
  {
   "cell_type": "markdown",
   "metadata": {},
   "source": [
    "   UDMK01000001.1   276652   277662  100  99.703  0.0\\\n",
    "0  UDIR01000001.1   129950   128940  100  99.703  0.0\\\n",
    "1  UHCG01000001.1   795488   796498  100  99.703  0.0\\\n",
    "2  OGBR01000034.1   321008   322018  100  99.703  0.0\\\n",
    "3  FQKY01000001.1  1106566  1105556  100  98.022  0.0\\\n",
    "4  FQRR01000001.1  1121207  1120197  100  97.923  0.0\\\n",
    "5      AE015929.1   553355   554365  100  89.229  0.0\\\n",
    "6  FKIN01000005.1  1151570  1150579   98  86.847  0.0\\\n",
    "7      LR134263.1  2257955  2256964   98  86.231  0.0\\\n",
    "8  FMPF01000004.1   225112   226103   98  86.014  0.0\\"
   ]
  }
 ],
 "metadata": {
  "kernelspec": {
   "display_name": "base",
   "language": "python",
   "name": "python3"
  },
  "language_info": {
   "codemirror_mode": {
    "name": "ipython",
    "version": 3
   },
   "file_extension": ".py",
   "mimetype": "text/x-python",
   "name": "python",
   "nbconvert_exporter": "python",
   "pygments_lexer": "ipython3",
   "version": "3.12.4"
  }
 },
 "nbformat": 4,
 "nbformat_minor": 4
}
