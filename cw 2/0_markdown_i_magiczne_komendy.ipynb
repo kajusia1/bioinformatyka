{
 "cells": [
  {
   "cell_type": "markdown",
   "metadata": {},
   "source": [
    "<span style=\"font-size:10pt\">&copy; 2019-2024 Michał Bukowski (m.bukowski@uj.edu.pl) ZBA WBBiB UJ</span>"
   ]
  },
  {
   "cell_type": "markdown",
   "metadata": {},
   "source": [
    "---\n",
    "\n",
    "## 0. Markdown\n",
    "\\\n",
    "<font size=2>\n",
    "Wiedząc, że:\n",
    "\n",
    "* całe wyrażenia $\\LaTeX$ o wysokości jednej linii tekstu zapisuje się między znakami dolara `$...$` a te o pełnej wysokości między podwójnymi znakami dolara `$$...$$`\n",
    "* ułamek w tym języku zapisuje się wyrażeniem: `\\frac {...} {...}`\n",
    "* zmiennej wielkości nawias okrągły prawy i lewy: `\\left ( {...} \\right )`\n",
    "* indeks górny: `{...}^{...}`\n",
    "* indeks dolny: `{...}_{...}`\n",
    "* sumę: `\\sum_{...}^{...} {...}`\n",
    "* litery alfabetu greckiego poprzez ich nazwy z małej lub wielkiej litery: `\\Phi \\phi`\n",
    "* jeżeli wygenerowane równianie wydaje się za małe, całe wyrażenie $\\LaTeX$ możemy poprzedzić wyrażeniem `\\Large`\n",
    "\n",
    "zmień typ poniższej komórki na typ `Markdown`, wpisz odpowiednie wyrażenie $\\LaTeX$ i uruchom komórkę, aby wygenerować na jego podstawie równanie:\n",
    "\n",
    "<img src=\"drawings/latex.png\" width=\"250\">\n",
    "\n",
    "</font>"
   ]
  },
  {
   "cell_type": "markdown",
   "metadata": {},
   "source": [
    "$$ \\Phi = \\sum_{n=1}^{10} \\left( {\\frac{(e-1)^{n}} {e}} \\right ) $$ \n"
   ]
  },
  {
   "cell_type": "markdown",
   "metadata": {},
   "source": [
    "---\n",
    "\n",
    "## 1. _%pdoc_, _?_ oraz _??_\n",
    "\n",
    "<font size=2>Przetestuj działanie magicznej komendy `%pdoc` zgodnie ze wskazówkami podanymi w kolejnych komórkach.</font>"
   ]
  },
  {
   "cell_type": "code",
   "execution_count": 2,
   "metadata": {},
   "outputs": [
    {
     "name": "stdout",
     "output_type": "stream",
     "text": [
      "Prints the values to a stream, or to sys.stdout by default.\n",
      "\n",
      "  sep\n",
      "    string inserted between values, default a space.\n",
      "  end\n",
      "    string appended after the last value, default a newline.\n",
      "  file\n",
      "    a file-like object (stream); defaults to the current sys.stdout.\n",
      "  flush\n",
      "    whether to forcibly flush the stream.\n"
     ]
    }
   ],
   "source": [
    "# wykorzystaj funkcję print(),\n",
    "# aby wyświetlić zawartość dokumentacyjnego\n",
    "# ciągu tekstowego (docstring)\n",
    "# funkcji print(), czyli ciąg zapisany\n",
    "# w zmiennej print.__doc__\n",
    "\n",
    "print(print.__doc__)"
   ]
  },
  {
   "cell_type": "code",
   "execution_count": 3,
   "metadata": {},
   "outputs": [
    {
     "name": "stdout",
     "output_type": "stream",
     "text": [
      "\u001b[1;31mClass docstring:\u001b[0m\n",
      "    Prints the values to a stream, or to sys.stdout by default.\n",
      "    \n",
      "    sep\n",
      "      string inserted between values, default a space.\n",
      "    end\n",
      "      string appended after the last value, default a newline.\n",
      "    file\n",
      "      a file-like object (stream); defaults to the current sys.stdout.\n",
      "    flush\n",
      "      whether to forcibly flush the stream.\n",
      "\u001b[1;31mCall docstring:\u001b[0m\n",
      "    Call self as a function."
     ]
    }
   ],
   "source": [
    "# a teraz wyświetl tę zawartość,\n",
    "# stosując magiczną komendę %pdoc\n",
    "\n",
    "%pdoc print"
   ]
  },
  {
   "cell_type": "code",
   "execution_count": 4,
   "metadata": {},
   "outputs": [
    {
     "data": {
      "text/plain": [
       "<function print(*args, sep=' ', end='\\n', file=None, flush=False)>"
      ]
     },
     "execution_count": 4,
     "metadata": {},
     "output_type": "execute_result"
    }
   ],
   "source": [
    "# spróbuj ponownie zrobić to samo,\n",
    "# stosując skrót klawiaturowy Shift + Tab\n",
    "# tuż po wpisaniu nazwy funkcji\n",
    "\n",
    "print  # w vcs nie działa"
   ]
  },
  {
   "cell_type": "code",
   "execution_count": 5,
   "metadata": {},
   "outputs": [
    {
     "name": "stdout",
     "output_type": "stream",
     "text": [
      "\u001b[1;31mSignature:\u001b[0m       \u001b[0mnp\u001b[0m\u001b[1;33m.\u001b[0m\u001b[0mstack\u001b[0m\u001b[1;33m(\u001b[0m\u001b[0marrays\u001b[0m\u001b[1;33m,\u001b[0m \u001b[0maxis\u001b[0m\u001b[1;33m=\u001b[0m\u001b[1;36m0\u001b[0m\u001b[1;33m,\u001b[0m \u001b[0mout\u001b[0m\u001b[1;33m=\u001b[0m\u001b[1;32mNone\u001b[0m\u001b[1;33m,\u001b[0m \u001b[1;33m*\u001b[0m\u001b[1;33m,\u001b[0m \u001b[0mdtype\u001b[0m\u001b[1;33m=\u001b[0m\u001b[1;32mNone\u001b[0m\u001b[1;33m,\u001b[0m \u001b[0mcasting\u001b[0m\u001b[1;33m=\u001b[0m\u001b[1;34m'same_kind'\u001b[0m\u001b[1;33m)\u001b[0m\u001b[1;33m\u001b[0m\u001b[1;33m\u001b[0m\u001b[0m\n",
      "\u001b[1;31mCall signature:\u001b[0m  \u001b[0mnp\u001b[0m\u001b[1;33m.\u001b[0m\u001b[0mstack\u001b[0m\u001b[1;33m(\u001b[0m\u001b[1;33m*\u001b[0m\u001b[0margs\u001b[0m\u001b[1;33m,\u001b[0m \u001b[1;33m**\u001b[0m\u001b[0mkwargs\u001b[0m\u001b[1;33m)\u001b[0m\u001b[1;33m\u001b[0m\u001b[1;33m\u001b[0m\u001b[0m\n",
      "\u001b[1;31mType:\u001b[0m            _ArrayFunctionDispatcher\n",
      "\u001b[1;31mString form:\u001b[0m     <function stack at 0x000002168964C360>\n",
      "\u001b[1;31mFile:\u001b[0m            c:\\users\\acer\\anaconda3\\lib\\site-packages\\numpy\\core\\shape_base.py\n",
      "\u001b[1;31mDocstring:\u001b[0m      \n",
      "Join a sequence of arrays along a new axis.\n",
      "\n",
      "The ``axis`` parameter specifies the index of the new axis in the\n",
      "dimensions of the result. For example, if ``axis=0`` it will be the first\n",
      "dimension and if ``axis=-1`` it will be the last dimension.\n",
      "\n",
      ".. versionadded:: 1.10.0\n",
      "\n",
      "Parameters\n",
      "----------\n",
      "arrays : sequence of array_like\n",
      "    Each array must have the same shape.\n",
      "\n",
      "axis : int, optional\n",
      "    The axis in the result array along which the input arrays are stacked.\n",
      "\n",
      "out : ndarray, optional\n",
      "    If provided, the destination to place the result. The shape must be\n",
      "    correct, matching that of what stack would have returned if no\n",
      "    out argument were specified.\n",
      "\n",
      "dtype : str or dtype\n",
      "    If provided, the destination array will have this dtype. Cannot be\n",
      "    provided together with `out`.\n",
      "\n",
      "    .. versionadded:: 1.24\n",
      "\n",
      "casting : {'no', 'equiv', 'safe', 'same_kind', 'unsafe'}, optional\n",
      "    Controls what kind of data casting may occur. Defaults to 'same_kind'.\n",
      "\n",
      "    .. versionadded:: 1.24\n",
      "\n",
      "\n",
      "Returns\n",
      "-------\n",
      "stacked : ndarray\n",
      "    The stacked array has one more dimension than the input arrays.\n",
      "\n",
      "See Also\n",
      "--------\n",
      "concatenate : Join a sequence of arrays along an existing axis.\n",
      "block : Assemble an nd-array from nested lists of blocks.\n",
      "split : Split array into a list of multiple sub-arrays of equal size.\n",
      "\n",
      "Examples\n",
      "--------\n",
      ">>> arrays = [np.random.randn(3, 4) for _ in range(10)]\n",
      ">>> np.stack(arrays, axis=0).shape\n",
      "(10, 3, 4)\n",
      "\n",
      ">>> np.stack(arrays, axis=1).shape\n",
      "(3, 10, 4)\n",
      "\n",
      ">>> np.stack(arrays, axis=2).shape\n",
      "(3, 4, 10)\n",
      "\n",
      ">>> a = np.array([1, 2, 3])\n",
      ">>> b = np.array([4, 5, 6])\n",
      ">>> np.stack((a, b))\n",
      "array([[1, 2, 3],\n",
      "       [4, 5, 6]])\n",
      "\n",
      ">>> np.stack((a, b), axis=-1)\n",
      "array([[1, 4],\n",
      "       [2, 5],\n",
      "       [3, 6]])\n",
      "\u001b[1;31mClass docstring:\u001b[0m\n",
      "Class to wrap functions with checks for __array_function__ overrides.\n",
      "\n",
      "All arguments are required, and can only be passed by position.\n",
      "\n",
      "Parameters\n",
      "----------\n",
      "dispatcher : function or None\n",
      "    The dispatcher function that returns a single sequence-like object\n",
      "    of all arguments relevant.  It must have the same signature (except\n",
      "    the default values) as the actual implementation.\n",
      "    If ``None``, this is a ``like=`` dispatcher and the\n",
      "    ``_ArrayFunctionDispatcher`` must be called with ``like`` as the\n",
      "    first (additional and positional) argument.\n",
      "implementation : function\n",
      "    Function that implements the operation on NumPy arrays without\n",
      "    overrides.  Arguments passed calling the ``_ArrayFunctionDispatcher``\n",
      "    will be forwarded to this (and the ``dispatcher``) as if using\n",
      "    ``*args, **kwargs``.\n",
      "\n",
      "Attributes\n",
      "----------\n",
      "_implementation : function\n",
      "    The original implementation passed in."
     ]
    }
   ],
   "source": [
    "# zaimportuj moduł numpy a następnie\n",
    "# wyświetl pomoc do funkcji np.stack,\n",
    "# stosując pojedynczy znak zapytania\n",
    "# postawiony za nazwą funkcji\n",
    "\n",
    "import numpy as np\n",
    "\n",
    "np.stack?"
   ]
  },
  {
   "cell_type": "markdown",
   "metadata": {
    "vscode": {
     "languageId": "raw"
    }
   },
   "source": [
    "Prints the values to a stream, or to sys.stdout by default.\n",
    "\n",
    "  sep\n",
    "    string inserted between values, default a space.\n",
    "  end\n",
    "    string appended after the last value, default a newline.\n",
    "  file\n",
    "    a file-like object (stream); defaults to the current sys.stdout.\n",
    "  flush\n",
    "    whether to forcibly flush the stream.\n",
    "Class docstring:\n",
    "    Prints the values to a stream, or to sys.stdout by default.\n",
    "    \n",
    "    sep\n",
    "      string inserted between values, default a space.\n",
    "    end\n",
    "      string appended after the last value, default a newline.\n",
    "    file\n",
    "      a file-like object (stream); defaults to the current sys.stdout.\n",
    "    flush\n",
    "      whether to forcibly flush the stream.\n",
    "Call docstring:\n",
    "    Call self as a function.\n",
    "<function print(*args, sep=' ', end='\\n', file=None, flush=False)>\n",
    "Signature:       np.stack(arrays, axis=0, out=None, *, dtype=None, casting='same_kind')\n",
    "Call signature:  np.stack(*args, **kwargs)\n",
    "Type:            _ArrayFunctionDispatcher\n",
    "String form:     <function stack at 0x00000253232F0680>\n",
    "File:            c:\\users\\acer\\anaconda3\\lib\\site-packages\\numpy\\core\\shape_base.py\n",
    "Docstring:      \n",
    "Join a sequence of arrays along a new axis.\n",
    "\n",
    "The ``axis`` parameter specifies the index of the new axis in the\n",
    "dimensions of the result. For example, if ``axis=0`` it will be the first\n",
    "dimension and if ``axis=-1`` it will be the last dimension.\n",
    "\n",
    ".. versionadded:: 1.10.0\n",
    "\n",
    "Parameters\n",
    "----------\n",
    "arrays : sequence of array_like\n",
    "    Each array must have the same shape.\n",
    "\n",
    "axis : int, optional\n",
    "    The axis in the result array along which the input arrays are stacked.\n",
    "\n",
    "out : ndarray, optional\n",
    "    If provided, the destination to place the result. The shape must be\n",
    "    correct, matching that of what stack would have returned if no\n",
    "...\n",
    "\n",
    "Attributes\n",
    "----------\n",
    "_implementation : function\n",
    "    The original implementation passed in.\n",
    "Output is truncated. View as a scrollable element or open in a text editor. Adjust cell output settings..."
   ]
  },
  {
   "cell_type": "code",
   "execution_count": 6,
   "metadata": {},
   "outputs": [
    {
     "name": "stdout",
     "output_type": "stream",
     "text": [
      "\u001b[1;31mSignature:\u001b[0m       \u001b[0mnp\u001b[0m\u001b[1;33m.\u001b[0m\u001b[0mstack\u001b[0m\u001b[1;33m(\u001b[0m\u001b[0marrays\u001b[0m\u001b[1;33m,\u001b[0m \u001b[0maxis\u001b[0m\u001b[1;33m=\u001b[0m\u001b[1;36m0\u001b[0m\u001b[1;33m,\u001b[0m \u001b[0mout\u001b[0m\u001b[1;33m=\u001b[0m\u001b[1;32mNone\u001b[0m\u001b[1;33m,\u001b[0m \u001b[1;33m*\u001b[0m\u001b[1;33m,\u001b[0m \u001b[0mdtype\u001b[0m\u001b[1;33m=\u001b[0m\u001b[1;32mNone\u001b[0m\u001b[1;33m,\u001b[0m \u001b[0mcasting\u001b[0m\u001b[1;33m=\u001b[0m\u001b[1;34m'same_kind'\u001b[0m\u001b[1;33m)\u001b[0m\u001b[1;33m\u001b[0m\u001b[1;33m\u001b[0m\u001b[0m\n",
      "\u001b[1;31mCall signature:\u001b[0m  \u001b[0mnp\u001b[0m\u001b[1;33m.\u001b[0m\u001b[0mstack\u001b[0m\u001b[1;33m(\u001b[0m\u001b[1;33m*\u001b[0m\u001b[0margs\u001b[0m\u001b[1;33m,\u001b[0m \u001b[1;33m**\u001b[0m\u001b[0mkwargs\u001b[0m\u001b[1;33m)\u001b[0m\u001b[1;33m\u001b[0m\u001b[1;33m\u001b[0m\u001b[0m\n",
      "\u001b[1;31mType:\u001b[0m            _ArrayFunctionDispatcher\n",
      "\u001b[1;31mString form:\u001b[0m     <function stack at 0x000002168964C360>\n",
      "\u001b[1;31mFile:\u001b[0m            c:\\users\\acer\\anaconda3\\lib\\site-packages\\numpy\\core\\shape_base.py\n",
      "\u001b[1;31mSource:\u001b[0m         \n",
      "\u001b[1;33m@\u001b[0m\u001b[0marray_function_dispatch\u001b[0m\u001b[1;33m(\u001b[0m\u001b[0m_stack_dispatcher\u001b[0m\u001b[1;33m)\u001b[0m\u001b[1;33m\n",
      "\u001b[0m\u001b[1;32mdef\u001b[0m \u001b[0mstack\u001b[0m\u001b[1;33m(\u001b[0m\u001b[0marrays\u001b[0m\u001b[1;33m,\u001b[0m \u001b[0maxis\u001b[0m\u001b[1;33m=\u001b[0m\u001b[1;36m0\u001b[0m\u001b[1;33m,\u001b[0m \u001b[0mout\u001b[0m\u001b[1;33m=\u001b[0m\u001b[1;32mNone\u001b[0m\u001b[1;33m,\u001b[0m \u001b[1;33m*\u001b[0m\u001b[1;33m,\u001b[0m \u001b[0mdtype\u001b[0m\u001b[1;33m=\u001b[0m\u001b[1;32mNone\u001b[0m\u001b[1;33m,\u001b[0m \u001b[0mcasting\u001b[0m\u001b[1;33m=\u001b[0m\u001b[1;34m\"same_kind\"\u001b[0m\u001b[1;33m)\u001b[0m\u001b[1;33m:\u001b[0m\u001b[1;33m\n",
      "\u001b[0m    \u001b[1;34m\"\"\"\n",
      "    Join a sequence of arrays along a new axis.\n",
      "\n",
      "    The ``axis`` parameter specifies the index of the new axis in the\n",
      "    dimensions of the result. For example, if ``axis=0`` it will be the first\n",
      "    dimension and if ``axis=-1`` it will be the last dimension.\n",
      "\n",
      "    .. versionadded:: 1.10.0\n",
      "\n",
      "    Parameters\n",
      "    ----------\n",
      "    arrays : sequence of array_like\n",
      "        Each array must have the same shape.\n",
      "\n",
      "    axis : int, optional\n",
      "        The axis in the result array along which the input arrays are stacked.\n",
      "\n",
      "    out : ndarray, optional\n",
      "        If provided, the destination to place the result. The shape must be\n",
      "        correct, matching that of what stack would have returned if no\n",
      "        out argument were specified.\n",
      "\n",
      "    dtype : str or dtype\n",
      "        If provided, the destination array will have this dtype. Cannot be\n",
      "        provided together with `out`.\n",
      "\n",
      "        .. versionadded:: 1.24\n",
      "\n",
      "    casting : {'no', 'equiv', 'safe', 'same_kind', 'unsafe'}, optional\n",
      "        Controls what kind of data casting may occur. Defaults to 'same_kind'.\n",
      "\n",
      "        .. versionadded:: 1.24\n",
      "\n",
      "\n",
      "    Returns\n",
      "    -------\n",
      "    stacked : ndarray\n",
      "        The stacked array has one more dimension than the input arrays.\n",
      "\n",
      "    See Also\n",
      "    --------\n",
      "    concatenate : Join a sequence of arrays along an existing axis.\n",
      "    block : Assemble an nd-array from nested lists of blocks.\n",
      "    split : Split array into a list of multiple sub-arrays of equal size.\n",
      "\n",
      "    Examples\n",
      "    --------\n",
      "    >>> arrays = [np.random.randn(3, 4) for _ in range(10)]\n",
      "    >>> np.stack(arrays, axis=0).shape\n",
      "    (10, 3, 4)\n",
      "\n",
      "    >>> np.stack(arrays, axis=1).shape\n",
      "    (3, 10, 4)\n",
      "\n",
      "    >>> np.stack(arrays, axis=2).shape\n",
      "    (3, 4, 10)\n",
      "\n",
      "    >>> a = np.array([1, 2, 3])\n",
      "    >>> b = np.array([4, 5, 6])\n",
      "    >>> np.stack((a, b))\n",
      "    array([[1, 2, 3],\n",
      "           [4, 5, 6]])\n",
      "\n",
      "    >>> np.stack((a, b), axis=-1)\n",
      "    array([[1, 4],\n",
      "           [2, 5],\n",
      "           [3, 6]])\n",
      "\n",
      "    \"\"\"\u001b[0m\u001b[1;33m\n",
      "\u001b[0m    \u001b[0marrays\u001b[0m \u001b[1;33m=\u001b[0m \u001b[1;33m[\u001b[0m\u001b[0masanyarray\u001b[0m\u001b[1;33m(\u001b[0m\u001b[0marr\u001b[0m\u001b[1;33m)\u001b[0m \u001b[1;32mfor\u001b[0m \u001b[0marr\u001b[0m \u001b[1;32min\u001b[0m \u001b[0marrays\u001b[0m\u001b[1;33m]\u001b[0m\u001b[1;33m\n",
      "\u001b[0m    \u001b[1;32mif\u001b[0m \u001b[1;32mnot\u001b[0m \u001b[0marrays\u001b[0m\u001b[1;33m:\u001b[0m\u001b[1;33m\n",
      "\u001b[0m        \u001b[1;32mraise\u001b[0m \u001b[0mValueError\u001b[0m\u001b[1;33m(\u001b[0m\u001b[1;34m'need at least one array to stack'\u001b[0m\u001b[1;33m)\u001b[0m\u001b[1;33m\n",
      "\u001b[0m\u001b[1;33m\n",
      "\u001b[0m    \u001b[0mshapes\u001b[0m \u001b[1;33m=\u001b[0m \u001b[1;33m{\u001b[0m\u001b[0marr\u001b[0m\u001b[1;33m.\u001b[0m\u001b[0mshape\u001b[0m \u001b[1;32mfor\u001b[0m \u001b[0marr\u001b[0m \u001b[1;32min\u001b[0m \u001b[0marrays\u001b[0m\u001b[1;33m}\u001b[0m\u001b[1;33m\n",
      "\u001b[0m    \u001b[1;32mif\u001b[0m \u001b[0mlen\u001b[0m\u001b[1;33m(\u001b[0m\u001b[0mshapes\u001b[0m\u001b[1;33m)\u001b[0m \u001b[1;33m!=\u001b[0m \u001b[1;36m1\u001b[0m\u001b[1;33m:\u001b[0m\u001b[1;33m\n",
      "\u001b[0m        \u001b[1;32mraise\u001b[0m \u001b[0mValueError\u001b[0m\u001b[1;33m(\u001b[0m\u001b[1;34m'all input arrays must have the same shape'\u001b[0m\u001b[1;33m)\u001b[0m\u001b[1;33m\n",
      "\u001b[0m\u001b[1;33m\n",
      "\u001b[0m    \u001b[0mresult_ndim\u001b[0m \u001b[1;33m=\u001b[0m \u001b[0marrays\u001b[0m\u001b[1;33m[\u001b[0m\u001b[1;36m0\u001b[0m\u001b[1;33m]\u001b[0m\u001b[1;33m.\u001b[0m\u001b[0mndim\u001b[0m \u001b[1;33m+\u001b[0m \u001b[1;36m1\u001b[0m\u001b[1;33m\n",
      "\u001b[0m    \u001b[0maxis\u001b[0m \u001b[1;33m=\u001b[0m \u001b[0mnormalize_axis_index\u001b[0m\u001b[1;33m(\u001b[0m\u001b[0maxis\u001b[0m\u001b[1;33m,\u001b[0m \u001b[0mresult_ndim\u001b[0m\u001b[1;33m)\u001b[0m\u001b[1;33m\n",
      "\u001b[0m\u001b[1;33m\n",
      "\u001b[0m    \u001b[0msl\u001b[0m \u001b[1;33m=\u001b[0m \u001b[1;33m(\u001b[0m\u001b[0mslice\u001b[0m\u001b[1;33m(\u001b[0m\u001b[1;32mNone\u001b[0m\u001b[1;33m)\u001b[0m\u001b[1;33m,\u001b[0m\u001b[1;33m)\u001b[0m \u001b[1;33m*\u001b[0m \u001b[0maxis\u001b[0m \u001b[1;33m+\u001b[0m \u001b[1;33m(\u001b[0m\u001b[0m_nx\u001b[0m\u001b[1;33m.\u001b[0m\u001b[0mnewaxis\u001b[0m\u001b[1;33m,\u001b[0m\u001b[1;33m)\u001b[0m\u001b[1;33m\n",
      "\u001b[0m    \u001b[0mexpanded_arrays\u001b[0m \u001b[1;33m=\u001b[0m \u001b[1;33m[\u001b[0m\u001b[0marr\u001b[0m\u001b[1;33m[\u001b[0m\u001b[0msl\u001b[0m\u001b[1;33m]\u001b[0m \u001b[1;32mfor\u001b[0m \u001b[0marr\u001b[0m \u001b[1;32min\u001b[0m \u001b[0marrays\u001b[0m\u001b[1;33m]\u001b[0m\u001b[1;33m\n",
      "\u001b[0m    \u001b[1;32mreturn\u001b[0m \u001b[0m_nx\u001b[0m\u001b[1;33m.\u001b[0m\u001b[0mconcatenate\u001b[0m\u001b[1;33m(\u001b[0m\u001b[0mexpanded_arrays\u001b[0m\u001b[1;33m,\u001b[0m \u001b[0maxis\u001b[0m\u001b[1;33m=\u001b[0m\u001b[0maxis\u001b[0m\u001b[1;33m,\u001b[0m \u001b[0mout\u001b[0m\u001b[1;33m=\u001b[0m\u001b[0mout\u001b[0m\u001b[1;33m,\u001b[0m\u001b[1;33m\n",
      "\u001b[0m                           \u001b[0mdtype\u001b[0m\u001b[1;33m=\u001b[0m\u001b[0mdtype\u001b[0m\u001b[1;33m,\u001b[0m \u001b[0mcasting\u001b[0m\u001b[1;33m=\u001b[0m\u001b[0mcasting\u001b[0m\u001b[1;33m)\u001b[0m\u001b[1;33m\u001b[0m\u001b[1;33m\u001b[0m\u001b[0m\n",
      "\u001b[1;31mClass docstring:\u001b[0m\n",
      "Class to wrap functions with checks for __array_function__ overrides.\n",
      "\n",
      "All arguments are required, and can only be passed by position.\n",
      "\n",
      "Parameters\n",
      "----------\n",
      "dispatcher : function or None\n",
      "    The dispatcher function that returns a single sequence-like object\n",
      "    of all arguments relevant.  It must have the same signature (except\n",
      "    the default values) as the actual implementation.\n",
      "    If ``None``, this is a ``like=`` dispatcher and the\n",
      "    ``_ArrayFunctionDispatcher`` must be called with ``like`` as the\n",
      "    first (additional and positional) argument.\n",
      "implementation : function\n",
      "    Function that implements the operation on NumPy arrays without\n",
      "    overrides.  Arguments passed calling the ``_ArrayFunctionDispatcher``\n",
      "    will be forwarded to this (and the ``dispatcher``) as if using\n",
      "    ``*args, **kwargs``.\n",
      "\n",
      "Attributes\n",
      "----------\n",
      "_implementation : function\n",
      "    The original implementation passed in."
     ]
    }
   ],
   "source": [
    "# wyświetl pomoc do funkcji np.stack,\n",
    "# tym razem korzystając z podwójnego\n",
    "# znaku zapytania\n",
    "\n",
    "np.stack??"
   ]
  },
  {
   "cell_type": "markdown",
   "metadata": {
    "vscode": {
     "languageId": "raw"
    }
   },
   "source": [
    "Prints the values to a stream, or to sys.stdout by default.\n",
    "\n",
    "  sep\n",
    "    string inserted between values, default a space.\n",
    "  end\n",
    "    string appended after the last value, default a newline.\n",
    "  file\n",
    "    a file-like object (stream); defaults to the current sys.stdout.\n",
    "  flush\n",
    "    whether to forcibly flush the stream.\n",
    "Class docstring:\n",
    "    Prints the values to a stream, or to sys.stdout by default.\n",
    "    \n",
    "    sep\n",
    "      string inserted between values, default a space.\n",
    "    end\n",
    "      string appended after the last value, default a newline.\n",
    "    file\n",
    "      a file-like object (stream); defaults to the current sys.stdout.\n",
    "    flush\n",
    "      whether to forcibly flush the stream.\n",
    "Call docstring:\n",
    "    Call self as a function.\n",
    "<function print(*args, sep=' ', end='\\n', file=None, flush=False)>\n",
    "Signature:       np.stack(arrays, axis=0, out=None, *, dtype=None, casting='same_kind')\n",
    "Call signature:  np.stack(*args, **kwargs)\n",
    "Type:            _ArrayFunctionDispatcher\n",
    "String form:     <function stack at 0x00000253232F0680>\n",
    "File:            c:\\users\\acer\\anaconda3\\lib\\site-packages\\numpy\\core\\shape_base.py\n",
    "Docstring:      \n",
    "Join a sequence of arrays along a new axis.\n",
    "\n",
    "The ``axis`` parameter specifies the index of the new axis in the\n",
    "dimensions of the result. For example, if ``axis=0`` it will be the first\n",
    "dimension and if ``axis=-1`` it will be the last dimension.\n",
    "\n",
    ".. versionadded:: 1.10.0\n",
    "\n",
    "Parameters\n",
    "----------\n",
    "arrays : sequence of array_like\n",
    "    Each array must have the same shape.\n",
    "\n",
    "axis : int, optional\n",
    "    The axis in the result array along which the input arrays are stacked.\n",
    "\n",
    "out : ndarray, optional\n",
    "    If provided, the destination to place the result. The shape must be\n",
    "    correct, matching that of what stack would have returned if no\n",
    "...\n",
    "\n",
    "Attributes\n",
    "----------\n",
    "_implementation : function\n",
    "    The original implementation passed in.\n",
    "Output is truncated. View as a scrollable element or open in a text editor. Adjust cell output settings...\n",
    "Signature:       np.stack(arrays, axis=0, out=None, *, dtype=None, casting='same_kind')\n",
    "Call signature:  np.stack(*args, **kwargs)\n",
    "Type:            _ArrayFunctionDispatcher\n",
    "String form:     <function stack at 0x00000253232F0680>\n",
    "File:            c:\\users\\acer\\anaconda3\\lib\\site-packages\\numpy\\core\\shape_base.py\n",
    "Source:         \n",
    "@array_function_dispatch(_stack_dispatcher)\n",
    "def stack(arrays, axis=0, out=None, *, dtype=None, casting=\"same_kind\"):\n",
    "    \"\"\"\n",
    "    Join a sequence of arrays along a new axis.\n",
    "\n",
    "    The ``axis`` parameter specifies the index of the new axis in the\n",
    "    dimensions of the result. For example, if ``axis=0`` it will be the first\n",
    "    dimension and if ``axis=-1`` it will be the last dimension.\n",
    "\n",
    "    .. versionadded:: 1.10.0\n",
    "\n",
    "    Parameters\n",
    "    ----------\n",
    "    arrays : sequence of array_like\n",
    "        Each array must have the same shape.\n",
    "\n",
    "    axis : int, optional\n",
    "        The axis in the result array along which the input arrays are stacked.\n",
    "...\n",
    "\n",
    "Attributes\n",
    "----------\n",
    "_implementation : function\n",
    "    The original implementation passed in.\n",
    "Output is truncated. View as a scrollable element or open in a text editor. Adjust cell output settings..."
   ]
  },
  {
   "cell_type": "markdown",
   "metadata": {},
   "source": [
    "<font size=2>Czym różni się działanie pojedynczego znaku zapytania od podwójnego?</font>"
   ]
  },
  {
   "cell_type": "markdown",
   "metadata": {
    "vscode": {
     "languageId": "raw"
    }
   },
   "source": [
    "# ? - wyswiewtla podstawową dokumentacje \n",
    "# ?? - dodatkowo wyswietla kod zródłowy funkcji"
   ]
  },
  {
   "cell_type": "markdown",
   "metadata": {},
   "source": [
    "---\n",
    "\n",
    "## 2. _%history_\n",
    "\n",
    "<font size=2>Przetestuj działanie magicznej komendy `%history` zgodnie ze wskazówkami podanymi w kolejnych komórkach.</font>"
   ]
  },
  {
   "cell_type": "code",
   "execution_count": 7,
   "metadata": {},
   "outputs": [],
   "source": [
    "# zapisz cały dotychczasowo uruchamiany kod\n",
    "# do pliku output/history.py\n",
    "import os\n",
    "os.makedirs('output', exist_ok=True)\n",
    "%history -f output/history.py"
   ]
  },
  {
   "cell_type": "markdown",
   "metadata": {},
   "source": [
    "<font size=2>A teraz przejdź do okna głównego Jupytera, otwórz plik `history.py` i zobacz jego zawartość.</font>"
   ]
  },
  {
   "cell_type": "markdown",
   "metadata": {},
   "source": [
    "---\n",
    "\n",
    "## 3. _%notebook_\n",
    "\n",
    "<font size=2>Przetestuj działanie magicznej komendy `%notebook` zgodnie ze wskazówkami podanymi w kolejnych komórkach.</font>"
   ]
  },
  {
   "cell_type": "code",
   "execution_count": 8,
   "metadata": {},
   "outputs": [],
   "source": [
    "# zapisz dotychczasowo uruchamiany kod do\n",
    "# notatnika o nazwie output/notebook.ipynb\n",
    "\n",
    "%notebook output/notebook.ipynb"
   ]
  },
  {
   "cell_type": "markdown",
   "metadata": {},
   "source": [
    "<font size=2>A teraz przejdź do okna głównego Jupytera, otwórz plik `notebook.ipynb` i zobacz jego zawartość.</font>"
   ]
  },
  {
   "cell_type": "markdown",
   "metadata": {},
   "source": [
    "---\n",
    "\n",
    "## 4. _%time_ i _%timeit_\n",
    "\n",
    "<font size=2>Przetestuj działanie magicznych komend `%time` i `%timeit` zgodnie ze wskazówkami podanymi w kolejnych komórkach.\n",
    "\\\n",
    "\\\n",
    "Tam gdzie jest to konieczne zastosuj podwójny znak procent `%%`.\n",
    "\\\n",
    "\\\n",
    "Pamiętaj również, że magiczne komendy obejmujące cały blok kodu (komórkę) muszą być umieszczone <u>w pierwszej linijce komórki</u>.</font>"
   ]
  },
  {
   "cell_type": "code",
   "execution_count": 9,
   "metadata": {},
   "outputs": [],
   "source": [
    "# uruchom poniższy kod, aby utworzyć\n",
    "# listę wartości od 0 do 99\n",
    "\n",
    "values = [ i for i in range(100) ]\n"
   ]
  },
  {
   "cell_type": "code",
   "execution_count": 10,
   "metadata": {},
   "outputs": [
    {
     "name": "stdout",
     "output_type": "stream",
     "text": [
      "CPU times: total: 0 ns\n",
      "Wall time: 0 ns\n"
     ]
    }
   ],
   "source": [
    "# zmierz jednorazowo szybkość działania poniższego kodu,\n",
    "# wykorzystującego operator 'in'\n",
    "%time\n",
    "found = 99 in values\n"
   ]
  },
  {
   "cell_type": "code",
   "execution_count": 11,
   "metadata": {},
   "outputs": [
    {
     "name": "stdout",
     "output_type": "stream",
     "text": [
      "CPU times: total: 0 ns\n",
      "Wall time: 0 ns\n"
     ]
    }
   ],
   "source": [
    "# zmierz jednorazowo szybkość działania poniższego kodu,\n",
    "# którego efekt działania jest taki sam jak w poprzednim\n",
    "# przypadku, niemniej do przeszukiwania listy wykorzystuje\n",
    "# on pętlę 'for'\n",
    "%time\n",
    "found = False\n",
    "\n",
    "for value in values:\n",
    "    \n",
    "    if value == 99:\n",
    "        \n",
    "        found = True\n",
    "        \n",
    "        break\n"
   ]
  },
  {
   "cell_type": "markdown",
   "metadata": {},
   "source": [
    "<font size=2>W dwóch kolejnych komórkach przetestuj średnią szybkość działania tych samych fragmentów kodu, uruchamiając je w 100 replikach i 10 powtórzeniach w każdej replice</font>"
   ]
  },
  {
   "cell_type": "code",
   "execution_count": 12,
   "metadata": {},
   "outputs": [
    {
     "name": "stdout",
     "output_type": "stream",
     "text": [
      "1.25 μs ± 321 ns per loop (mean ± std. dev. of 100 runs, 10 loops each)\n"
     ]
    }
   ],
   "source": [
    "%timeit -r 100 -n 10 found = 99 in values #%timeit tylko dla jednej linii"
   ]
  },
  {
   "cell_type": "code",
   "execution_count": 13,
   "metadata": {},
   "outputs": [
    {
     "name": "stdout",
     "output_type": "stream",
     "text": [
      "-9.9 ns ± 5.2 ns per loop (mean ± std. dev. of 100 runs, -10 loops each)\n"
     ]
    }
   ],
   "source": [
    "%%timeit -r 100 -n -10 #dla wielu linijek\n",
    "found = False\n",
    "\n",
    "for value in values:\n",
    "    \n",
    "    if value == 99:\n",
    "        \n",
    "        found = True\n",
    "        \n",
    "        break\n"
   ]
  },
  {
   "cell_type": "markdown",
   "metadata": {},
   "source": [
    "---\n",
    "\n",
    "## 5. _%run_\n",
    "\n",
    "<font size=2>Otwórz plik `scripts/script.py` i przeanalizuj jego kod. Następnie uruchom go komendą `%run` w taki sposób, aby miał dostęp do przestrzeni nazw notatnika (<i>namespace</i>), czyli miał dostęp do obiektów do tej pory utworzonych jako efekt uruchamianego wcześniej kodu. Przy okazji zmierz czas jego działania.</font>"
   ]
  },
  {
   "cell_type": "code",
   "execution_count": 14,
   "metadata": {},
   "outputs": [],
   "source": [
    "# najpierw do zmiennej 'name' przypisz wartość\n",
    "# będącą Twoim imieniem\n",
    "\n",
    "name = 'kajusia'\n"
   ]
  },
  {
   "cell_type": "code",
   "execution_count": 15,
   "metadata": {},
   "outputs": [
    {
     "name": "stdout",
     "output_type": "stream",
     "text": [
      "Witaj kajusia!\n"
     ]
    }
   ],
   "source": [
    "# uruchom skrypt 'script.py' zgodnie\n",
    "# z wytycznymi w treści zadania\n",
    "%run -i scripts/script.py\n",
    "\n"
   ]
  },
  {
   "cell_type": "code",
   "execution_count": 16,
   "metadata": {},
   "outputs": [
    {
     "name": "stdout",
     "output_type": "stream",
     "text": [
      "10\n"
     ]
    }
   ],
   "source": [
    "# uruchom poniższy kod\n",
    "\n",
    "print(my_sum)\n"
   ]
  },
  {
   "cell_type": "markdown",
   "metadata": {},
   "source": [
    "<font size=2>Skąd wzięła się zmienna `my_sum`?</font>"
   ]
  },
  {
   "cell_type": "markdown",
   "metadata": {},
   "source": [
    "Z skryptu script.py\n"
   ]
  },
  {
   "cell_type": "markdown",
   "metadata": {},
   "source": [
    "---\n",
    "\n",
    "## 6. _%load_\n",
    "\n",
    "<font size=2>Załaduj do komórki kod definiujący funkcję `add()` z pliku `scripts/script.py`, korzystając z komendy `%load`.</font>"
   ]
  },
  {
   "cell_type": "code",
   "execution_count": 33,
   "metadata": {},
   "outputs": [],
   "source": [
    "# %load  -r 5-9 scripts/script.py\n",
    "def add(x, y):\n",
    "    \n",
    "    s = x + y\n",
    "\n",
    "    return s"
   ]
  },
  {
   "cell_type": "markdown",
   "metadata": {},
   "source": [
    "---\n",
    "\n",
    "## 7. _%%bash_\n",
    "\n",
    "<font size=2>Poniżej umieszczony jest kod w języku Bash (powłoka tekstowa, <i>shell</i>, Linuxa):\n",
    "```Bash\n",
    "for i in {0..5}\n",
    "do\n",
    "    echo \"Kolejna liczba: ${i}\"\n",
    "done\n",
    "```\n",
    "\n",
    "Jest on odpowiednikiem pętli `for` Pythona:\n",
    "```Python\n",
    "for i in range(6):\n",
    "    print(f'Kolejna liczba: {i}')\n",
    "```\n",
    "\n",
    "Z wykorzystaniem komendy `%%bash` uruchom powyższy fragment kodu Bash w poniższej komórce.</font>"
   ]
  },
  {
   "cell_type": "code",
   "execution_count": 35,
   "metadata": {},
   "outputs": [
    {
     "name": "stdout",
     "output_type": "stream",
     "text": [
      "Kolejna liczba: 0\n",
      "Kolejna liczba: 1\n",
      "Kolejna liczba: 2\n",
      "Kolejna liczba: 3\n",
      "Kolejna liczba: 4\n",
      "Kolejna liczba: 5\n"
     ]
    }
   ],
   "source": [
    "\n",
    "%%bash\n",
    "for i in {0..5}\n",
    "do\n",
    "    echo \"Kolejna liczba: ${i}\"\n",
    "done"
   ]
  },
  {
   "cell_type": "markdown",
   "metadata": {},
   "source": [
    "<font size=2>W dwóch kolejnych komórkach, uruchom ponownie ten sam kod, przechwytując jego wyjście (<i>standard output</i>, <i>stdout</i>) do zmiennej `proc` komendą `%%capture` a następnie wyświetlając je na ekranie z wykorzystaniem funkcji Python `print()`.</font>"
   ]
  },
  {
   "cell_type": "code",
   "execution_count": 36,
   "metadata": {},
   "outputs": [],
   "source": [
    "\n",
    "%%capture proc\n",
    "%%bash\n",
    "for i in {0..5}\n",
    "do\n",
    "    echo \"Kolejna liczba: ${i}\"\n",
    "done"
   ]
  },
  {
   "cell_type": "code",
   "execution_count": 37,
   "metadata": {},
   "outputs": [
    {
     "name": "stdout",
     "output_type": "stream",
     "text": [
      "Kolejna liczba: 0\n",
      "Kolejna liczba: 1\n",
      "Kolejna liczba: 2\n",
      "Kolejna liczba: 3\n",
      "Kolejna liczba: 4\n",
      "Kolejna liczba: 5\n",
      "\n"
     ]
    }
   ],
   "source": [
    "\n",
    "print(proc)"
   ]
  },
  {
   "cell_type": "markdown",
   "metadata": {},
   "source": [
    "---\n",
    "\n",
    "## 8. _!_ i _!!_\n",
    "\n",
    "<font size=2>Pojedyncze wyrażenie w języku Bash, osadzone w kodzie Python, można uruchomić poprzedzając je wykrzyknikiem (`!`). Gdy poprzedzimy je dwoma (`!!`), efekt działania kodu zostanie zapisany do zmiennej `_`. Niemniej możliwym jest uzyskanie tego samego efektu poprzez operację przypisania wartości wyrażenia poprzedzonego jednym wykrzyknikiem (`!`) do zmiennej.\n",
    "\\\n",
    "\\\n",
    "Fragmenty kodu Bash zanim zostaną przesłane do interpretera Bash, są przetwarzane przez interpreter IPythona. Można zatem wykorzystywać w nich wartości zmiennych Python poprzez wpisanie ich w nawiasy klamrowe, np.: `{zmienna}`.\n",
    "\\\n",
    "\\\n",
    "Tutaj należy wziąć pod uwagę, że język Bash wykorzystuje podobne składniowo wyrażenia, np.: `echo \"Katalog roboczy: ${PWD}\"` (możesz spróbować ją uruchomić w terminalu tekstowym). Jeżeli nie chcemy, aby doszło tutaj do nieprzewidywalnego zachowania, nawiasy klamrowe musimy zapisać podwójnie i zawrzeć w konstrukcji `${{...}}` każde odwołanie do zmiennej Bash.\n",
    "\\\n",
    "\\\n",
    "Uruchom i przeanalizuj działanie poniższego kodu.</font>"
   ]
  },
  {
   "cell_type": "code",
   "execution_count": 38,
   "metadata": {},
   "outputs": [
    {
     "name": "stdout",
     "output_type": "stream",
     "text": [
      "\"Hej!\"\n"
     ]
    }
   ],
   "source": [
    "# wyświetl tekst poleceniem Bash 'echo'\n",
    "\n",
    "! echo \"Hej!\"\n"
   ]
  },
  {
   "cell_type": "code",
   "execution_count": 22,
   "metadata": {},
   "outputs": [
    {
     "name": "stdout",
     "output_type": "stream",
     "text": [
      "$PWD\n",
      "\n",
      "lub...\n",
      "\n",
      "${PWD}\n"
     ]
    }
   ],
   "source": [
    "# wyświetl zmienną systemową PWD (print working directory),\n",
    "# czyli aktualny katalog roboczy, wyrażeniem Bash:\n",
    "\n",
    "! echo $PWD\n",
    "\n",
    "print('\\nlub...\\n')\n",
    "\n",
    "! echo ${PWD}\n"
   ]
  },
  {
   "cell_type": "code",
   "execution_count": 23,
   "metadata": {},
   "outputs": [
    {
     "name": "stdout",
     "output_type": "stream",
     "text": [
      "Hej\n"
     ]
    }
   ],
   "source": [
    "# definiujemy zmienną PWD w Pythonie, oraz\n",
    "# uruchamiamy to samo polecenie Bash,\n",
    "# otrzymując zupełnie inne zachowanie\n",
    "\n",
    "PWD = 'Hej'\n",
    "\n",
    "! echo $PWD\n"
   ]
  },
  {
   "cell_type": "code",
   "execution_count": 24,
   "metadata": {},
   "outputs": [
    {
     "name": "stdout",
     "output_type": "stream",
     "text": [
      "$Hej\n"
     ]
    }
   ],
   "source": [
    "# podobnie tutaj\n",
    "\n",
    "! echo ${PWD}\n"
   ]
  },
  {
   "cell_type": "code",
   "execution_count": 25,
   "metadata": {
    "scrolled": true
   },
   "outputs": [
    {
     "name": "stdout",
     "output_type": "stream",
     "text": [
      "${PWD}\n"
     ]
    }
   ],
   "source": [
    "# ten kod jednoznacznie wskazuje co chcemy zrobić\n",
    "\n",
    "! echo ${{PWD}}\n"
   ]
  },
  {
   "cell_type": "code",
   "execution_count": 26,
   "metadata": {},
   "outputs": [
    {
     "name": "stdout",
     "output_type": "stream",
     "text": [
      "\"Zmienna Python: Hej\"\n",
      "\"Zmienna Bash: ${PWD}\"\n"
     ]
    }
   ],
   "source": [
    "# podobnie tutaj\n",
    "\n",
    "! echo \"Zmienna Python: {PWD}\"\n",
    "\n",
    "! echo \"Zmienna Bash: ${{PWD}}\"\n"
   ]
  },
  {
   "cell_type": "code",
   "execution_count": 27,
   "metadata": {},
   "outputs": [
    {
     "data": {
      "text/plain": [
       "['${PWD}']"
      ]
     },
     "execution_count": 27,
     "metadata": {},
     "output_type": "execute_result"
    }
   ],
   "source": [
    "# przypisanie do zmiennej '_'\n",
    "\n",
    "!! echo ${{PWD}}\n"
   ]
  },
  {
   "cell_type": "code",
   "execution_count": 28,
   "metadata": {},
   "outputs": [
    {
     "name": "stdout",
     "output_type": "stream",
     "text": [
      "['${PWD}']\n"
     ]
    }
   ],
   "source": [
    "print(_)\n"
   ]
  },
  {
   "cell_type": "code",
   "execution_count": 29,
   "metadata": {},
   "outputs": [],
   "source": [
    "# lub nieco inaczej\n",
    "\n",
    "stdout_lines = ! echo ${{PWD}}\n"
   ]
  },
  {
   "cell_type": "code",
   "execution_count": 30,
   "metadata": {},
   "outputs": [
    {
     "name": "stdout",
     "output_type": "stream",
     "text": [
      "['${PWD}']\n"
     ]
    }
   ],
   "source": [
    "print(stdout_lines)\n"
   ]
  },
  {
   "cell_type": "markdown",
   "metadata": {},
   "source": [
    "---"
   ]
  }
 ],
 "metadata": {
  "kernelspec": {
   "display_name": "base",
   "language": "python",
   "name": "python3"
  },
  "language_info": {
   "codemirror_mode": {
    "name": "ipython",
    "version": 3
   },
   "file_extension": ".py",
   "mimetype": "text/x-python",
   "name": "python",
   "nbconvert_exporter": "python",
   "pygments_lexer": "ipython3",
   "version": "3.12.4"
  }
 },
 "nbformat": 4,
 "nbformat_minor": 4
}
