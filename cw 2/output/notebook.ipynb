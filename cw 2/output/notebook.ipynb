{
 "cells": [
  {
   "cell_type": "code",
   "execution_count": 1,
   "id": "b5dac9a0",
   "metadata": {},
   "outputs": [],
   "source": [
    "# zapisz cały dotychczasowo uruchamiany kod\n",
    "# do pliku output/history.py\n",
    "import os\n",
    "os.makedirs('output', exist_ok=True)\n",
    "%history -f output/history.py"
   ]
  },
  {
   "cell_type": "code",
   "execution_count": 2,
   "id": "16e3a540",
   "metadata": {},
   "outputs": [],
   "source": [
    "# wykorzystaj funkcję print(),\n",
    "# aby wyświetlić zawartość dokumentacyjnego\n",
    "# ciągu tekstowego (docstring)\n",
    "# funkcji print(), czyli ciąg zapisany\n",
    "# w zmiennej print.__doc__\n",
    "\n",
    "print(print.__doc__)"
   ]
  },
  {
   "cell_type": "code",
   "execution_count": 3,
   "id": "b4d996ce",
   "metadata": {},
   "outputs": [],
   "source": [
    "# a teraz wyświetl tę zawartość,\n",
    "# stosując magiczną komendę %pdoc\n",
    "\n",
    "%pdoc print"
   ]
  },
  {
   "cell_type": "code",
   "execution_count": 4,
   "id": "2aa2f3f6",
   "metadata": {},
   "outputs": [],
   "source": [
    "# spróbuj ponownie zrobić to samo,\n",
    "# stosując skrót klawiaturowy Shift + Tab\n",
    "# tuż po wpisaniu nazwy funkcji\n",
    "\n",
    "print  # w vcs nie działa"
   ]
  },
  {
   "cell_type": "code",
   "execution_count": 5,
   "id": "73461f75",
   "metadata": {},
   "outputs": [],
   "source": [
    "# zaimportuj moduł numpy a następnie\n",
    "# wyświetl pomoc do funkcji np.stack,\n",
    "# stosując pojedynczy znak zapytania\n",
    "# postawiony za nazwą funkcji\n",
    "\n",
    "import numpy as np\n",
    "\n",
    "np.stack?"
   ]
  },
  {
   "cell_type": "code",
   "execution_count": 6,
   "id": "79fd205d",
   "metadata": {},
   "outputs": [],
   "source": [
    "# wyświetl pomoc do funkcji np.stack,\n",
    "# tym razem korzystając z podwójnego\n",
    "# znaku zapytania\n",
    "\n",
    "np.stack??"
   ]
  },
  {
   "cell_type": "code",
   "execution_count": 7,
   "id": "956f4e29",
   "metadata": {},
   "outputs": [],
   "source": [
    "# zapisz cały dotychczasowo uruchamiany kod\n",
    "# do pliku output/history.py\n",
    "import os\n",
    "os.makedirs('output', exist_ok=True)\n",
    "%history -f output/history.py"
   ]
  }
 ],
 "metadata": {},
 "nbformat": 4,
 "nbformat_minor": 5
}
