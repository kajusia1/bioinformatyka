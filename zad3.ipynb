{
 "cells": [
  {
   "cell_type": "code",
   "execution_count": 25,
   "metadata": {},
   "outputs": [
    {
     "name": "stdout",
     "output_type": "stream",
     "text": [
      "[<Element GBSet at 0x70af6c440200>, <Element GBSet at 0x70af6c444b80>, <Element GBSet at 0x70af6fb3f100>]\n"
     ]
    }
   ],
   "source": [
    "#Zadanie3:\n",
    "#Z bazy Nucleotide pobierz sekwencje o następującach ID: NM_001012006.1, MK560199.1, AB046569.1.\n",
    "\n",
    "from urllib.request import urlopen\n",
    "from lxml import etree\n",
    "\n",
    "\n",
    "##########NASZE ZAPYTANIE\n",
    "ID = ['NM_001012006.1', 'MK560199.1', 'AB046569.1'] # id sekwencji\n",
    "xml_list=[]\n",
    "for id in ID:\n",
    "    baseurl = \"https://eutils.ncbi.nlm.nih.gov/entrez/eutils/efetch.fcgi?\"\n",
    "    query = \"db=nucleotide&id=\"+id+\"&format=xml\" \n",
    "    url = baseurl+query\n",
    "    ########################\n",
    "\n",
    "    #########OTWORZ URL I PRZECZYTAJ XML\n",
    "    f = urlopen(url) \n",
    "    resultxml = f.read() \n",
    "    xml = etree.XML(resultxml) \n",
    "    xml_list.append(xml)\n",
    "    \n",
    "print(xml_list)\n",
    "###################################"
   ]
  },
  {
   "cell_type": "code",
   "execution_count": 33,
   "metadata": {},
   "outputs": [
    {
     "name": "stdout",
     "output_type": "stream",
     "text": [
      "['>Rattus norvegicus atgtcaagctcctgctggctccttctcagccttgttgctgttgctactgctcagtccctcatcgaggaaaaggccgagagctttttaaacaagtttaaccaggaagctgaagacctgtcttatcaaagttcacttgcttcttggaattacaacaccaacattacggaggagaatgcccaaaagatgaacgaggctgcggccaaatggtctgccttttatgaagaacagtccaagatcgcccaaaatttctcactacaagaaattcagaatgcgaccatcaagcgtcaactgaaggcccttcagcagagcgggtcttcagcgctgtcaccagacaagaacaaacagttgaacacaattctaaacaccatgagcaccatttacagtactggaaaagtttgcaactcaatgaatccacaagaatgttttttacttgaaccaggattggacgaaataatggcaacaagcacagactacaatcgtaggctctgggcttgggagggctggagggctgaggtcggcaagcagctgaggccgttatatgaagagtatgtggtcctgaaaaatgagatggcaagagcaaacaattatgaagactatggggattattggcgaggggattatgaagcagagggagtagaaggttacaactacaaccgaaaccagttgatcgaagacgtagaaaataccttcaaagagatcaaaccgttgtatgagcaacttcatgcctatgtgagaacgaagttgatggaagtgtacccttcttacatcagccctactggatgcctccctgctcatttgcttggtgatatgtggggtaggttttggacaaatctgtaccctttgactactccctttcttcagaaaccaaacatagatgttactgatgcaatggtgaatcagagctgggatgcagaaagaatatttaaagaggcagagaagttcttcgtttctgttggccttcctcaaatgactccgggattctggacaaactccatgctgactgagccaggagatgaccggaaagttgtctgccaccccacagcttgggatctgggacatggagacttcagaatcaagatgtgcacaaaggtcacaatggacaacttcttgacagcccatcatgagatgggacacatccaatatgacatggcatatgccaagcaacctttcctgctaagaaacggagccaatgaagggttccatgaagccgttggagaaatcatgtcactttctgcagctacccccaaacatttgaaatctattggtcttctgccatccaattttcaagaagacaatgaaacagaaataaacttcctactcaaacaggcattgacaattgttggaacgctgccatttacttacatgttagagaagtggaggtggatggtctttcaggataaaattcccagagaacagtggaccaaaaagtggtgggagatgaagcgggagatcgttggtgtggtggagcctctgcctcatgatgaaacatactgtgaccctgcatctctgttccatgtctctaatgattactcattcattcgatattacacaaggaccatttatcaattccagtttcaagaagctctttgtcaagcagctaaacatgatggcccactacacaaatgtgacatctcaaattccactgaagctgggcagaagttgctcaatatgctgagtcttggaaactcagggccctggaccctagccttggaaaatgtggtaggatcaaggaatatggatgtaaaaccactgctcaattacttccaaccattgtttgtctggctgaaagagcagaacaggaattcgactgtggggtggagcactgactggagcccatatgccgaccaaagcattaaagtgaggataagcctaaaatcagctcttgggaaaaatgcgtatgaatggaccgacaacgaaatgtacctattccgatcatctgttgcctatgccatgagagagtatttttcaagggaaaagaaccagacagttccttttggggaggcagacgtatgggtgagtgatttgaaaccaagagtctccttcaacttctttgtcacttcacccaaaaatgtgtctgacatcattcccagaagtgaagttgaagaggccatcaggatgtctcggggccgtatcaatgatatttttggtctgaatgataacagcctggagtttctggggatctacccaacacttaagccaccttacgagcctcctgtcaccatatggctgattatttttggtgtcgtgatgggaacggtagtggttggcattgttatcctgatcgtcactgggatcaaaggtcgaaagaagaaaaatgaaacaaaaagagaagagaatccttatgactccatggacattggcaaaggagaaagtaacgcaggattccaaaacagtgatgatgctcaaacttcattctaa', '>Gallus gallus cgggatccatgttgcttcacttctggcttctctgtggtctgagcgctgttgtgacccctcaggacgtcacacaggaagcccaaacatttctggcagagttcaatgtgagagcagaagacatcagctatgaaaactcacttgcctcgtggaactacaacaccaacataactgaggagacagccaggaaaatgagtgaggcaggtgccaagtgggcagcattttatgaggaggcctccaggaacgctagccgcttctcactagctaacatccaggatgctgtcaccaggctccagatccagtctctgcaggacaggggatcctctgttctgtcaccggaaaaatacagcaggctgaactctgtgatgaactcaatgagtaccatctacagcactggggttgtctgcaaagccactgaaccgttcgactgtttggtgctggagccaggtctggatgatattatggccaatagcatagactatcatgagcgactgtgggcctgggaaggctggagagctgatgttggcaggatgatgagaccattatatgaagagtatgttgaacttaaaaatgaggctgcaaggcttaataattattctgactatggagactactggagagcaaattatgaaacagattatccagaggagtataaatacagccgtgaccagctggttcaagatgtggagaaaacatttgagcagataaaacctctgtaccagcatctgcatgcctacgtgaggcaccgtttggagcaagtctatggctctgagctcatcaaccccactggatgcctccctgcacacttgctgggtgatatgtggggtagattttggacaaatctgtataacttgactgttccctatccagaaaaaccaaacattgatgtaacttctgcaatggctcaaaagaactgggatgcaatgaaaatattcaaaaccgctgaggcttttttcgcctccattggtctctacaacatgactgaaggcttctggacaaactccatgctcacagagcccaccgacaacaggaaggttgtctgccatcctacagcatgggatatggggaagaatgactacaggatcaagatgtgcaccaaggttacaatggatgacttcctgacggcacaccatgagatgggtcacattgagtacgacatggcgtactctgtacagcccttcctgttgcgagatggggccaatgagggcttccatgaagcagtaggtgaaatcatgtcactctctgcagcaacaccacagcatctgaaatctctcgacctccttgagccaactttccaagaggatgaagaaactgaaatcaactttctgctcaaacaagcactaacaattgttggaacaatgccttttacttacatgctggagaagtggaggtggatggtgtttaatggtgagattacaaagcaggagtggacgaagcggtggtggaagatgaagagagaaatagttggtgttgtcgaaccagtccctcacgatgagacgtactgcgatcctgctgcactgtttcatgtggctaatgattactcattcataaggtattatactcggacgatttaccagttccagtttcaggaggcactttgcaaggcggccaaccacactggccctcttcacaaatgtgacatcaccaattctacagcagctggtgggaatttgaggcaattgcttgaattaggcaaatcaaagccctggactcaagcactggaaagtgcaacaggagagaaatacatgaatgctacacccctgctccactactttgagcctttatttaactggctgcaaaagaacaattctggcagatccattggctggaatacagactggacaccatattctgacaatgccatcaaggtacgcatcagtttgaaagcagcgctgggagatgacgcgtatgtgtgggatgcaagtgagctcttcttgttcaagtcatccattgcctatgccatgaggaaatactttgcaaaggagaaggaacaaaatgttgacttccaggttacagacattcacgttggggaagagacgcagagggtctccttctaccttacagtcagcatgccaggtaatgtcagtgatattgtgcccagagctgacgtggaaaaagccatcaggatgtctcggggacgaatcagtgaggctttcagactggatgacaacacgctggagtttgatggcatagtaccaaccctggccacaccttacaaaccaccagtcaccatctggttaattctgtttggggtggtcatgagtctgattgtcattggagttattgtcttgatcatcactggtcagagggataaaagaaagaaagcaagagggagagcgaatgaagcaggatcaaactgtgaagtgaatccttacgatgaagatggaagaagcaacaagggttttgagcaatctgaagagacacaaacatccttttagaagcttcgc', '>Homo sapiens tttttagtctagggaaagtcattcagtggatgtgatcttggctcacaggggacgatgtcaagctcttcctggctccttctcagccttgttgctgtaactgctgctcagtccaccattgaggaacaggccaagacatttttggacaagtttaaccacgaagccgaagacctgttctatcaaagttcacttgcttcttggaattataacaccaatattactgaagagaatgtccaaaacatgaataacgctggggacaaatggtctgcctttttaaaggaacagtccacacttgcccaaatgtatccactacaagaaattcagaatctcacagtcaagcttcagctgcaggctcttcagcaaaatgggtcttcagtgctctcagaagacaagagcaaacggttgaacacaattctaaatacaatgagcaccatctacagtactggaaaagtttgtaacccagataatccacaagaatgcttattacttgaaccaggtttgaatgaaataatggcaaacagtttagactacaatgagaggctctgggcttgggaaagctggagatctgaggtcggcaagcagctgaggccattatatgaagagtatgtggtcttgaaaaatgagatggcaagagcaaatcattatgaggactatggggattattggagaggagactatgaagtaaatggggtagatggctatgactacagccgcggccagttgattgaagatgtggaacatacctttgaagagattaaaccattatatgaacatcttcatgcctatgtgagggcaaagttgatgaatgcctatccttcctatatcagtccaattggatgcctccctgctcatttgcttggtgatatgtggggtagattttggacaaatctgtactctttgacagttccctttggacagaaaccaaacatagatgttactgatgcaatggtggaccaggcctgggatgcacagagaatattcaaggaggccgagaagttctttgtatctgttggtcttcctaatatgactcaaggattctgggaaaattccatgctaacggacccaggaaatgttcagaaagcagtctgccatcccacagcttgggacctggggaaaggcgacttcaggatccttatgtgcacaaaggtgacaatggacgacttcctgacagctcatcatgagatggggcatattcagtatgatatggcatatgctgcacaaccttttctgctaagaaatggagctaatgaaggattccatgaagctgttggggaaatcatgtcactttctgcagccacacctaagcatttaaaatccattggtcttctgtcacccgattttcaagaagacaatgaaacagaaataaacttcctgctcaaacaagcactcacgattgttgggactctgccatttacttacatgttagagaagtggaggtggatggtctttaaaggggaaattcccaaagaccagtggatgaaaaagtggtgggagatgaagcgagagatagttggggtggtggaacctgtgccccatgatgaaacatactgtgaccccgcatctctgttccatgtttctaatgattactcattcattcgatattacacaaggaccctttaccaattccagtttcaagaagcactttgtcaagcagctaaacatgaaggccctctgcacaaatgtgacatctcaaactctacagaagctggacagaaactgttcaatatgctgaggcttggaaaatcagaaccctggaccctagcattggaaaatgttgtaggagcaaagaacatgaatgtaaggccactgctcaactactttgagcccttatttacctggctgaaagaccagaacaagaattcttttgtgggatggagtaccgactggagtccatatgcagaccaaagcatcaaagtgaggataagcctaaaatcagctcttggagatagagcatatgaatggaacgacaatgaaatgtacctgttccgatcatctgttgcatatgctatgaggcagtactttttaaaagtaaaaaatcagatgattctttttggggaggaggatgtgcgagtggctaatttgaaaccaagaatctcctttaatttctttgtcactgcacctaaaaatgtgtctgatatcattcctagaactgaagttgaaaaggccatcaggatgtcccggagccgtatcaatgatgctttccgtctgaatgacaacagcctagagtttctggggatacagccaacacttggacctcctaaccagccccctgtttccatatggctgattgtttttggagttgtgatgggagtgatagtggttggcattgtcatcctgatcttcactgggatcagagatcggaagaagaaaaataaagcaagaagtggagaaaatccttatgcctccatcgatattagcaaaggagaaaataatccaggattccaaaacactgatgatgttcagacctccttttagaaaaatctatgtttttcctcttgaggtgattttgttgtatgtaaatgttaatttcatggtatagaaaatataagatgataaaaatatcattaaatgtcaaaactatgactctgttcagaaaaaaaaa']\n"
     ]
    }
   ],
   "source": [
    "fasta_list=[]\n",
    "for xml in xml_list:\n",
    "    resultelements = xml.xpath(\"//GBSeq_sequence\") #sekwencja\n",
    "    resultelements2=xml.xpath(\"//GBSeq_organism\")\n",
    "    \n",
    "    str=\">\" +resultelements2[0].text + \" \" +resultelements[0].text\n",
    "    fasta_list.append(str)\n",
    "\n",
    "print(fasta_list)\n"
   ]
  },
  {
   "cell_type": "code",
   "execution_count": null,
   "metadata": {},
   "outputs": [],
   "source": []
  }
 ],
 "metadata": {
  "kernelspec": {
   "display_name": "Python 3",
   "language": "python",
   "name": "python3"
  },
  "language_info": {
   "codemirror_mode": {
    "name": "ipython",
    "version": 3
   },
   "file_extension": ".py",
   "mimetype": "text/x-python",
   "name": "python",
   "nbconvert_exporter": "python",
   "pygments_lexer": "ipython3",
   "version": "3.10.12"
  }
 },
 "nbformat": 4,
 "nbformat_minor": 2
}
