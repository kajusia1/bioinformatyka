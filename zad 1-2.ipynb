{
 "cells": [
  {
   "cell_type": "code",
   "execution_count": 1,
   "metadata": {},
   "outputs": [
    {
     "name": "stdout",
     "output_type": "stream",
     "text": [
      "['GGCTA', 'GGCTA', 'GTCTA', 'GCGTA', 'GCGTA']\n"
     ]
    }
   ],
   "source": [
    "# Zadanie 1\n",
    "import re\n",
    "s = \"ATGCGCGCGGCGGATCGAATAGGCTAGCTAGGCTATATGCGCTATATGCGCCGTATAGGAGTCTAGCGTATATGCGATTCGATTCGTATAGCGTAGCTCTGAGACTCTGAGAGC\"\n",
    "t2=re.findall('(?=(G[^A]{2}TA))',s)   #pytajnik wyszukuje liczbe nakładających; dodatkowy () wypluwa też wyniki\n",
    "print(t2)"
   ]
  },
  {
   "cell_type": "code",
   "execution_count": null,
   "metadata": {},
   "outputs": [],
   "source": []
  }
 ],
 "metadata": {
  "kernelspec": {
   "display_name": "base",
   "language": "python",
   "name": "python3"
  },
  "language_info": {
   "codemirror_mode": {
    "name": "ipython",
    "version": 3
   },
   "file_extension": ".py",
   "mimetype": "text/x-python",
   "name": "python",
   "nbconvert_exporter": "python",
   "pygments_lexer": "ipython3",
   "version": "3.12.4"
  }
 },
 "nbformat": 4,
 "nbformat_minor": 2
}
