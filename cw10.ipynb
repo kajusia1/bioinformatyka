{
 "cells": [
  {
   "cell_type": "markdown",
   "id": "fab28785-8ac6-4e0d-b3b0-ad288a562b25",
   "metadata": {},
   "source": [
    "<b>Przygotował:</b> Michał Gucwa <br>\n",
    "<b>Aktualizacja:</b> gru 2024\n",
    "<!-- There are no Easter Eggs up here, Go away -->\n",
    "\n",
    "<h3>Metody przewidywania i walidacji struktury przestrzennej białek. Rola testów porównawczych CASP i metaserwerów predykcyjnych w stymulowaniu rozwoju bioinformatyki strukturalnej.</h3>\n",
    "\n",
    "<p1>Funkcja biologiczna białka związana jest z jego strukturą przestrzenną, którą można wyznaczyć\n",
    "metodami doświadczalnymi i obliczeniowymi. \n",
    "\n",
    "W modelowaniu porównawczym, model struktury białka konstruowany jest na podstawie informacji zawartych w strukturze białek spokrewnionych ewolucyjnie. Zasadność stosowania metod porównawczych wynika z faktu, że struktura jest bardziej konserwatywna niż sekwencja.\n",
    "\n",
    "Istota metody modelowania porównawczego sprowadza się do wykrycia pokrewieństwa\n",
    "ewolucyjnego między białkami o znanej i nieznanej strukturze przestrzennej (temat przewodni\n",
    "poniższego ćwiczenia) i wykorzystaniu informacji strukturalnej z białka szablonu (ang. template\n",
    "protein) do skonstruowania modelu struktury białka celu (ang. target protein).\n",
    "\n",
    "Używane programy podczas zajęć:<br>\n",
    "- PyMOL<br>\n",
    "- AlphaFold2<br>\n",
    "- AlphaFold3<br>\n",
    "- I-TASSER<br>\n",
    "\n",
    "Wszystkie wymienione programy są dostępne do użytku dla studentów w sali doktorantów Zakładu Biofizyki Obliczeniowej i Bioinformatyki, B019 (najniższe pietro, pierwszy korytarz za strefą na lewo, ostatni pokój po lewej). Proszę o wcześniej kontakt przed wizytą: teams-Michał Gucwa/ michal.gucwa@doctoral.uj.edu.pl<br>\n",
    "\n",
    "<b>Proszę odpowiedzieć na pytania a następnie:<br>\n",
    "B2 kurs duży: zdeponować do swojego repozytorium <br>\n",
    "B2 kurs mały: wysłać na mail: michal.gucwa@doctoral.uj.edu.pl<br>\n",
    "<br>\n",
    "Można pracować w dwuosobowych grupach\n",
    "</b>\n",
    "</p1>"
   ]
  },
  {
   "cell_type": "markdown",
   "id": "4e8541a1-33be-40af-a586-3bb725959dc3",
   "metadata": {},
   "source": [
    "<h4>Ćw. 1 CASP (The Critical Assessment of protein Structure Prediction)</h4>\n",
    "\n",
    "Celem eksperymentów w ramach Krytycznej Oceny Przewidywania Struktury Białka (CASP) jest wspieranie postępu w metodach identyfikowania struktury białka na podstawie sekwencji. Centrum zostało zorganizowane w celu zapewnienia środków do obiektywnego testowania tych metod poprzez proces ślepej predykcji. <br>\n",
    "<br>\n",
    "Ranking bazuje na:<br>\n",
    "GDT_TS – GlobalDistanceTest_TotalScore <br>\n",
    "GDT_TS = (GDT_P1 + GDT_P2 + GDT_P4 + GDT_P8)/4,<br>\n",
    "gdzie GDT_Pn jest odestkiem reszt amikowsowych poniżej dystansu odcięcia <= nÅ <br>\n",
    "najpierw komputerowy model jest dopasowywany do wzorca a następnie oblicza się odległość pomiędzy C-alpha"
   ]
  },
  {
   "cell_type": "markdown",
   "id": "65bb9558-3984-4975-ab0e-2476458b2892",
   "metadata": {},
   "source": [
    "<b>Zad 1.1:</b> Proszę objerzeć rozkład wyników dla CASP13 (2018), a następnie podać kto wygrał CASP14 (2020) w kategorii “regular targets”? <br>\n",
    "Podpowiedź: <br>\n",
    "1) Proszę wpisać w google: CASP13 -> pierwszy wynik googla \"Home - CASP13\" -> górna tabelka w kolumnie \"Results\" kliknąć w odnośnik: \"Rankings: Regular targets (T)\"<br>\n",
    "2) Aby przejść do CASP14 wystarczy po lewej kliknąć w odnośnik"
   ]
  },
  {
   "cell_type": "markdown",
   "id": "12b3ed98-cecd-4e28-bcc8-c2215defdab6",
   "metadata": {},
   "source": [
    "<b>Odp_1.1:</b> "
   ]
  },
  {
   "cell_type": "markdown",
   "id": "f360df0e",
   "metadata": {},
   "source": [
    "AlphaFold2"
   ]
  },
  {
   "cell_type": "markdown",
   "id": "e58fe650-eb0c-4f21-ac71-b93c2e167648",
   "metadata": {},
   "source": [
    "<b>Zad 1.2:</b> Które miejsce zajmuje iTASSER w CASP14 (2020) i CASP15 (2022) (kategoria regular targets)?<br> \n",
    "Podpowiedź iTASSER występuje pod nazwami: CASP14:Zhang-server, CASP15:UM-TBM\n"
   ]
  },
  {
   "cell_type": "markdown",
   "id": "e3515195-859f-4395-ba85-0c7cd6557788",
   "metadata": {},
   "source": [
    "<b>Odp_1.2:</b> "
   ]
  },
  {
   "cell_type": "markdown",
   "id": "986a8c75",
   "metadata": {},
   "source": [
    "CASP14 (2020) miejsce 9\n",
    "CASP15 (2022) miejsce 2"
   ]
  },
  {
   "cell_type": "markdown",
   "id": "df95cae5-b9dd-43e5-ba82-e7590616f994",
   "metadata": {},
   "source": [
    "<b>Zad 1.3:</b> Które miejsce zajął AF3-server w CASP16 (2024), w kategoriach \"Rankings: Protein Domains\" oraz \"Rankings: Protein multimers\"? <br>\n",
    "Podpowiedź w przypadku katogorii Domains proszę patrzyć na: Rank SUM ZScore (>0.0)<br>\n",
    "W przypadku Mulrimers: Ranks SUM ZScore (>-2.0)"
   ]
  },
  {
   "cell_type": "markdown",
   "id": "04fc0a0e-e941-4368-98cb-4c2f7a74d890",
   "metadata": {},
   "source": [
    "<b>Odp_1.3:</b> "
   ]
  },
  {
   "cell_type": "markdown",
   "id": "9049fcd9",
   "metadata": {},
   "source": [
    "\"Rankings: Protein Domains\" - miejsce 23\n",
    "\"Rankings: Protein multimers\" -miejsce 9"
   ]
  },
  {
   "cell_type": "markdown",
   "id": "06a5df9a-e32c-4422-8819-26aea5718866",
   "metadata": {},
   "source": [
    "<b>Zad 1.4:</b> Prównaj kategorie CASP11 vs CASP16 w jakich można brać udział (Results: Rankings). "
   ]
  },
  {
   "cell_type": "markdown",
   "id": "f1ff96f4-c052-4b47-894d-0c53ffd39bef",
   "metadata": {},
   "source": [
    "<b>Odp_1.4:</b>"
   ]
  },
  {
   "cell_type": "markdown",
   "id": "19ae0f75",
   "metadata": {},
   "source": [
    "CASP16:\n",
    "- Rankings: Protein Domains\n",
    "- Rankings: Protein multimers\n",
    "- Rankings: RNA/DNA monomers\\\n",
    "- Rankings: RNA/DNA multimers \n",
    "- Rankings: EMA (accuracy)\n",
    "- Rankings: Ligands\n",
    "\n",
    "\n",
    "CASP11:\n",
    "- Rankings: Regular targets (T0)\n",
    "- Rankings: Refinement targets (TR)\n",
    "- Rankings: Assisted targets (T[cspx])\n",
    "\n",
    "W CASP11 rankingi skupiały się na klasycznych celach, takich jak przewidywanie struktur białek (T0), ich ulepszanie (TR) oraz wspomagane przewidywania (T[cspx]). W CASP16 rozszerzono zakres o domeny białkowe, kompleksy białkowe, RNA/DNA monomery i multimery oraz związki ligandów, z naciskiem na dokładność (EMA) i zaawansowane modele konformacyjne co sugeruje rozwój CASP o dodatokowe aspekty.\n"
   ]
  },
  {
   "cell_type": "markdown",
   "id": "fc3f8044",
   "metadata": {},
   "source": [
    "<b>Dodatkowe informacje:</b><br>\n",
    "AF2-monomer  : <a href=\"https://doi.org/10.1038/s41586-021-03819-2\">Highly accurate protein structure prediction with AlphaFold (2021)</a><br>\n",
    "AF2-multimer : <a href=\"https://doi.org/10.1101/2021.10.04.463034\">Protein complex prediction with AlphaFold-Multimer (2021)</a><br>\n",
    "AF3          : <a href=\"https://doi.org/10.1038/s41586-024-07487-w\">Accurate structure prediction of biomolecular interactions with AlphaFold 3 (2024)</a><br>\n",
    "<br>\n",
    "<br>\n",
    "<b>Zwycięzca CASP16 Domain/ 2nd-Multimer:<br></b>\n",
    "Yang-server/Yang-multimer/Yang:<br>\n",
    "Server            : <a href=\"https://yanglab.qd.sdu.edu.cn/trRosetta/\">The trRosetta server (as 'Yang-Server')</a><br>\n",
    "Yang Lab          : <a href=\"https://yanglab.qd.sdu.edu.cn/\">Yang Lab</a><br>\n",
    "CASP15 publication: <a href=\"https://doi.org/10.1002/prot.26570\">Improved protein structure prediction with trRosettaX2, AlphaFold2, and optimized MSAs in CASP15</a><br>\n",
    "\"In total, the six MSAs ... from the MSA search engine are submitted to trX2 and AF2 to predict structure models.\"<br>\n",
    "\"In Yang-Multimer, we utilize AlphaFold-Multimer (AFM) to predict the structure of multimers.\"<br>\n",
    "<br>\n",
    "<br>\n",
    "<b><a href=\"https://www.nobelprize.org/prizes/chemistry/2024/summary/\">The Nobel Prize in Chemistry 2024</a></b>\n"
   ]
  },
  {
   "cell_type": "markdown",
   "id": "2e12ab7b-2297-4811-a9bf-b499284f5663",
   "metadata": {},
   "source": [
    "<h4><b>Ćw. 2 Rozpoznanie białka</b></h4>\n",
    "\n",
    "W ćwiczeniu będziemy pracowali na białku o sekwencji:\n",
    "\n",
    "<b>GAMGMKNAPLTLNFGSVRLPVSADGLLHAPTAQQQLGLTQSWEAALVEHGLPETYRDFG\n",
    "AGPEAAVSVPDFVALAFALDTPEARRWQKRARELLARAMQGDVRVAAQIAERNPEPDARR\n",
    "WLAARLESTGARRELLATVARHGGEGRVYGQLGSISNRTVLGKDSASVRQERGVKATRDGL\n",
    "TSAELLRLAYIDTVTARAIQESEARGNAAILTLHEQVARSERQSWERAGQVQRVG</b>\n",
    "\n",
    "To białko było jednym z bialek użytych w CASP15 (Tar-id: T1120). \n",
    "\n",
    "Zanim przystąpimy do wyznaczenia struktury białka należy rozpoznać białko w istniejących bazach\n",
    "danych. Nawet jeżeli białko nie posiada zidentyfikowanej struktury to na podstawie samej sekwencji można uzyskać szereg informacji dotyczących rodziny, funkcji i potencjalnych ligandów białka. Temat baz zawierających informacje o sekwencji, strukturze i funkcjach białek omówiony został w ramach kursu bioinformatyka 1. Przypominamy tylko, że pomocne może być przeszukanie istniejących baz białkowych. Wykorzystać można między innymi serwisy BLAST i UniProt.<br>\n",
    "<br>\n",
    "<b>W tej części ćwiczenia cofamy się do roku 2021, stąd też nie możemy posługiwać się strukturami eksperymentalnymi opublikowanymi 2021+</b>"
   ]
  },
  {
   "cell_type": "markdown",
   "id": "4452fbd8",
   "metadata": {},
   "source": [
    "<b>Zad_2.1</b>: Zacznijmy bezpośrednio od znalezienia czy PDB posiada już jakies struktury takie same lub przynajmniej podobne. Stąd też udaj się do PDB:<br>\n",
    "https://www.rcsb.org/ <br>\n",
    "następnie kliknij na odnośnik \"advanced search\". Będziemy szukać struktur eksperymentalnych na podstawie podobieństwa do sekwencji, stąd też rozwiń \"Sequence Similarity\" i następnie wprowadź szukaną sekwencję.\n",
    "Na dole tabeli w rozsuwanym menu Return: zamień \"Structures\" na \"Polymer Entities\" i rozpocznij wyszukiwanie klikając \"Search\"<br>\n",
    "Następnie odpowiedz na pytanie: czy w PDB znajdują się jakieś struktury opublikowane (\"Released\") w/przed rokiem 2021? "
   ]
  },
  {
   "cell_type": "markdown",
   "id": "32157540",
   "metadata": {},
   "source": [
    "<b>Zad_2.1:</b>"
   ]
  },
  {
   "cell_type": "markdown",
   "id": "b47d4479",
   "metadata": {},
   "source": [
    "Nie, są 4 wyniki, wszystkie po 2021 roku."
   ]
  },
  {
   "cell_type": "markdown",
   "id": "eb9f017d-149e-4776-a601-1a92b93a77c4",
   "metadata": {},
   "source": [
    "<b>Zad_2.2</b> Sprawdź co to za białko używająć BLAST (protein blast):<br> \n",
    "https://blast.ncbi.nlm.nih.gov/Blast.cgi <br>\n",
    "Użyj rekordu który ma największy odsetek identycznych reszt aminokwasowych. Cofamy się do roku 2021 wieć nie wolno używać znalezionych struktur z bazy PDB (czteroliterowy kody: 7qvb, 8u0g, 7udi). <br>\n",
    "Pomocne informacje można również zdobyć kopiując kod z kolumny \"accesion\" i pszeszukując bazę UniProt:<br>\n",
    "https://www.uniprot.org/"
   ]
  },
  {
   "cell_type": "markdown",
   "id": "6887a63e-470d-4c3f-b5ef-d0f995e69288",
   "metadata": {},
   "source": [
    "<b>Odp_2.2:</b>"
   ]
  },
  {
   "cell_type": "markdown",
   "id": "66aa97f2",
   "metadata": {},
   "source": [
    "DNA damage response protein C"
   ]
  },
  {
   "cell_type": "markdown",
   "id": "9507f159-0758-4b16-87bc-aa099ee8ee27",
   "metadata": {},
   "source": [
    "<b>Zad_2.3:</b> jaką funkcję pełni?"
   ]
  },
  {
   "cell_type": "markdown",
   "id": "475bf1cf-4094-41a6-8163-01d488040808",
   "metadata": {},
   "source": [
    "<b>Odp_2.3:</b>"
   ]
  },
  {
   "cell_type": "markdown",
   "id": "3ee142b4",
   "metadata": {},
   "source": [
    "To białko pomaga *Deinococcus radiodurans* przetrwać promieniowanie jonizujące, kompaktując nukleoid po uszkodzeniu DNA. Wiąże zarówno ssDNA, jak i dsDNA, stabilizując genom i ograniczając rozprzestrzenianie się fragmentów DNA. Ułatwia naprawę DNA, chroniąc je przed nukleazami i wspomagając procesy takie jak kompaktowanie i łączenie nici."
   ]
  },
  {
   "cell_type": "markdown",
   "id": "0442677a-c481-402f-9638-f85a20897925",
   "metadata": {},
   "source": [
    "<b>Zad_2.4:</b> jaka jest jego lokalizacja subkomórkowa?"
   ]
  },
  {
   "cell_type": "markdown",
   "id": "2adc2fab-9788-467e-af16-02eceeab63c7",
   "metadata": {},
   "source": [
    "<b>Odp_2.4:</b>"
   ]
  },
  {
   "cell_type": "markdown",
   "id": "31b4114c",
   "metadata": {},
   "source": [
    "Cytoplasma, nukleoid"
   ]
  },
  {
   "cell_type": "markdown",
   "id": "350b96b3-e3b4-4a8e-851e-79c0bda520d2",
   "metadata": {},
   "source": [
    "<b>Zad_2.5:</b> jakie jest UniProtKB ID?"
   ]
  },
  {
   "cell_type": "markdown",
   "id": "148ee4f0-29b7-459f-a584-c5796b7823f5",
   "metadata": {},
   "source": [
    "<b>Odp_2.5:</b>"
   ]
  },
  {
   "cell_type": "markdown",
   "id": "23c0b282",
   "metadata": {},
   "source": [
    "Q9RYE6.2"
   ]
  },
  {
   "cell_type": "markdown",
   "id": "d7987a5d-8c6e-426e-a1b7-a254296aeaff",
   "metadata": {},
   "source": [
    "<b><h4>Ćw. 3 Przewidywanie struktury trzeciorzędowej - I-TASSER</h4></b>"
   ]
  },
  {
   "cell_type": "markdown",
   "id": "23935cd4-5d2c-47b0-8f95-7373c833af21",
   "metadata": {},
   "source": [
    "Jednym z narzędzi które dzisiaj będziemy używac jest I-TASSER, który służy do predykcji z użyciem modelowania homologicznego. Proszę wejść na stronę serwera:\n",
    "\n",
    "<a href=\"https://zhanglab.ccmb.med.umich.edu/I-TASSER/\">https://zhanglab.ccmb.med.umich.edu/I-TASSER/</a>\n",
    "\n",
    "(wyniki są już przygotowane na potrzeby tych ćwiczeń nie trzeba się rejestrować)<br>\n",
    "Strona wymaga rejestracji w celu korzystania z jej usług. Strona nie przyjmuje popularnych adresów ani mail komercyjnych, dlatego przy rejestracji należy użyć swojego maila w domenie UJ. Proszę zwrócić uwagę, że można ograniczyć dostęp osób postronnych do naszych wyników – nie robimy tego z białkami z ćwiczeń. Dlaczego – o tym przekonamy się wchodząc do wyników przewidywań. W tym celu proszę na stronie serwera odszukać kolejkę (‘Queue’) i zobaczyć jak ona wygląda.\n",
    "\n",
    "Obliczenia na serwerze zajmują ~2dni.\n",
    "\n",
    "Podpowiedź: <br>\n",
    "dobre predykcje według metryk walidacyjnych to:<br>\n",
    "- TM-score > 0.5 <br>\n",
    "- C-score > -1.5    <br>\n",
    "\n",
    "Na potrzeby ćwiczeń wykorzystamy jeden z już gotowych modeli, dostępnych do publicznego\n",
    "obejrzenia w kolejce, który został przygotowany dla sekwencji analizowanej we wcześniejszych\n",
    "punktach:"
   ]
  },
  {
   "cell_type": "markdown",
   "id": "50a60f89-32ce-46db-a635-48abd64d6094",
   "metadata": {},
   "source": [
    "<h5>Odrzucanie struktur szablonowych o wysokim stopniu identycznosci</h5>"
   ]
  },
  {
   "cell_type": "markdown",
   "id": "afd098b0-c3be-4c3f-bc43-19e23771ed7f",
   "metadata": {},
   "source": [
    "<b>Zad_3.1:</b><br>\n",
    "Proszę obejrzeć plik <i>data/iTASSER_exclude/exclude.dat</i><br>\n",
    "Są to strkutry które są identyczne/podobne do naszej sekwencji, które zostały opublikowane po 2022, ten plik został użyty do odrzucenia struktur używanych jako białka szablonowe."
   ]
  },
  {
   "cell_type": "markdown",
   "id": "d3d71521-c122-40dd-9779-a31795118f8d",
   "metadata": {},
   "source": [
    "<b>Zad_3.2:</b><br>\n",
    "Proszę uruchomic plik: data/iTASSER_exclude/S760663_results/index.html przy użyciu przeglądarki. \n",
    "Podaj 3 najważniejsze struktury bialek użyte jako szablony w modelowaniu homoligicznym analizowanej sekwencji.<br>\n",
    "(Podpowiedź: Top 10 threading templates used by I-TASSER)"
   ]
  },
  {
   "cell_type": "markdown",
   "id": "23362b7e-6809-4cb4-9a88-256f6809a98f",
   "metadata": {},
   "source": [
    "<b>Odp_3.2:</b> "
   ]
  },
  {
   "cell_type": "markdown",
   "id": "776d2ac9",
   "metadata": {},
   "source": [
    "1.\t7xgeA\t\n",
    "2.\t6w2vA\n",
    "3.\t6qpiA"
   ]
  },
  {
   "cell_type": "markdown",
   "id": "5d992386-b6e1-4a5f-ba6b-fcb5501e84c6",
   "metadata": {},
   "source": [
    "<b>Zad_3.3</b> podaj szacowany TM, RMSD, oraz C-score dla modelu 1:"
   ]
  },
  {
   "cell_type": "markdown",
   "id": "86ef94fe-03e3-4832-888a-0e91b2fe6243",
   "metadata": {},
   "source": [
    "<b>Odp_3.3:</b> "
   ]
  },
  {
   "cell_type": "markdown",
   "id": "8418a73c",
   "metadata": {},
   "source": [
    "Estimated TM-score = 0.34±0.11\n",
    "Estimated RMSD = 13.9±3.9Å\n",
    "C-score=-3.43 "
   ]
  },
  {
   "cell_type": "markdown",
   "id": "88fd3c3c-12e2-45c3-940c-7b9141f09592",
   "metadata": {},
   "source": [
    "<b>Zad_3.4</b> Obejrzeć strukturę w PyMOL i podać RMSD, napisać czy I-TASSER poprawnie przewidział szacowane RMSD tego modelu. Oceń obiektywnie tą predykcję. \n",
    "\n",
    "Otworzyć PyMOL w katalogu z wynikami z ITASSER'a, a następnie wpisać polecenia:<br>\n",
    "<u>load model1.pdb<br>\n",
    "fetch 7qvb<br>\n",
    "hide everything, m. 7qvb and c. B<br>\n",
    "hide everything, not polymer<br>\n",
    "extra_fit n. CA and c. A<br>\n",
    "color green, m. 7qvb<br>\n",
    "color blue, m. model1<br></u>\n",
    "<br><br>\n",
    "Na zielono jest referencja, na niebiesko jest nasz model"
   ]
  },
  {
   "cell_type": "markdown",
   "id": "e2c6dbb9-0291-492b-bd98-49feaae5eb30",
   "metadata": {},
   "source": [
    "<b>Odp_3.4:</b> "
   ]
  },
  {
   "cell_type": "markdown",
   "id": "091d630d",
   "metadata": {},
   "source": [
    "RMSD z pymol, RMSD =   15.469 (212 atoms)\n",
    "\n",
    "Patrząc na reprezentacje wizulaną i RDSM struktury wykazują podobne cechy (występowanie pratycznie samych helis), jednak różnice pomiedzy nimi są znaczne. Oszacowanie RDSM przez I-TASEERA jest poparwne. Na podstawie ocen z I-TASERRA (TM, C-score) również możemy stwierdzić, że przewidywania są nierzetelne."
   ]
  },
  {
   "cell_type": "markdown",
   "id": "731ae154-8ca4-48a7-991e-784f63aff625",
   "metadata": {},
   "source": [
    "<b><h5>Bez Odrzucania struktur szablonowych o wysokim stopniu identycznosci</h5></b>"
   ]
  },
  {
   "cell_type": "markdown",
   "id": "21fcf194-331d-42d2-8f76-02e24cb7b69b",
   "metadata": {},
   "source": [
    "<b>Zad_3.5</b> <br>\n",
    "Proszę uruchomic plik: data/iTASER_100ident/7qvb_results/index.html przy użyciu przeglądarki. \n",
    "Są to wyniki dla I-TASSER które nie uzwględniaja odrzucania 3 struktur identycznych/o bardzo wysokim stopniu identyczności.\n",
    "Podaj 3 najważniejsze struktury białek użyte jako szablony w modelowaniu homoligicznym analizowanej sekwencji.<br>\n",
    "(Podpowiedź: Top 10 threading templates used by I-TASSER)"
   ]
  },
  {
   "cell_type": "markdown",
   "id": "fe13ad32-7a22-4449-abd2-f5534333a573",
   "metadata": {},
   "source": [
    "<b>Odp_3.5:</b>"
   ]
  },
  {
   "cell_type": "markdown",
   "id": "12ca0b6e",
   "metadata": {},
   "source": [
    "\t7qvbA, \t7qvbA,\t7qvb"
   ]
  },
  {
   "cell_type": "markdown",
   "id": "5d34ece0-bac9-4eaf-9b0b-b632293b1db3",
   "metadata": {},
   "source": [
    "<b>Zad_3.6</b> podaj szacowany TM, RMSD, oraz C-score dla modelu 1:"
   ]
  },
  {
   "cell_type": "markdown",
   "id": "e4972ba0-3700-4529-a01e-2a114b964421",
   "metadata": {},
   "source": [
    "<b>Odp_3.6:</b>"
   ]
  },
  {
   "cell_type": "markdown",
   "id": "a36f3540",
   "metadata": {},
   "source": [
    "C-score=0.58\n",
    "Estimated TM-score = 0.79±0.09\n",
    "Estimated RMSD = 4.5±3.0Å"
   ]
  },
  {
   "cell_type": "markdown",
   "id": "92d5d28c-db7f-4b0a-b980-0a2c6beabe62",
   "metadata": {},
   "source": [
    "<b>Zad_3.7:</b> Obejrzeć strukture w PyMOL i podać RMSD. Oceń obiektywnie tą predykcje<br><br>\n",
    "\n",
    "Otworzyć PyMOL w katalogu z wynikami z ITASSER'a, a następnie wpisać komendy:<br>\n",
    "<u>load model1.pdb<br>\n",
    "fetch 7qvb<br>\n",
    "hide everything, m. 7qvb and c. B<br>\n",
    "hide everything, not polymer<br>\n",
    "extra_fit n. CA and c. A<br>\n",
    "color green, m. 7qvb<br>\n",
    "color blue, m. model1<br></u>\n",
    "<br><br>\n",
    "Na zielono jest referencja, na niebiesko jest nasz model"
   ]
  },
  {
   "cell_type": "markdown",
   "id": "4910cf35-e67f-4d5a-89c9-4d7eeec7dc17",
   "metadata": {},
   "source": [
    "<b>Odp_3.7:</b>"
   ]
  },
  {
   "cell_type": "markdown",
   "id": "28a77ce0",
   "metadata": {},
   "source": [
    "PMSD z Pymola: RMSD =    0.241 (193 atoms). Predykcja bardzo dobra, widnieją różnice, ale większość struktury jest poprawnie odwzorowana."
   ]
  },
  {
   "cell_type": "markdown",
   "id": "6374299e-1435-4a28-8191-e916576da207",
   "metadata": {},
   "source": [
    "<h4>Ćw. 4 Przewidywanie struktury trzeciorzędowej – alphafold2</h4>"
   ]
  },
  {
   "cell_type": "markdown",
   "id": "a1a544b6-649b-402d-93a4-d556db3706f5",
   "metadata": {},
   "source": [
    "Przeanalizuj pliki w:<br>\n",
    "data/af2/7qvb/input\n",
    "\n",
    "Następnie przejść do:<br>\n",
    "data/af2/7qvb/output\n",
    "\n",
    "1. Proszę sprawdzić plik “ranking_debug.json”. af2 tworzy 5 modeli x5predykcji w formie plików pdb+pkl, a następnie towrzy ranking od najbardziej do najmniej rzetelnej struktury. Dla uproszczenia w katalogu znajduje sie tylko “model_2_multimer_v2_pred_1”, oraz nie ma plików pkl z parametrami ze względu na ich duzy rozmiar.\n",
    "\n",
    "2. Proszę przeanalizaować plik: coverage_LDDT.png"
   ]
  },
  {
   "cell_type": "markdown",
   "id": "ec57268b-5afc-4049-8acd-2e0c2931123e",
   "metadata": {},
   "source": [
    "Zad_5.1: Przeanalizuj pierwszy pierwszy graf (po lewej) w pliku: coverage_LDDT.png, reprezentuje on MSA (multiple sequence aligment). Spróbuj wytłumaczyć zmniejszony parametr LDDT (local distance difference test C-alpha) w okolicach 109-116 reszty aminokwasowej przewidzianej struktury. "
   ]
  },
  {
   "cell_type": "markdown",
   "id": "e52b2fad-68fb-4c81-985a-34333413a145",
   "metadata": {},
   "source": [
    "Odp_5.1:"
   ]
  },
  {
   "cell_type": "markdown",
   "id": "e9e0cbb9",
   "metadata": {},
   "source": [
    "Jest to miejsce łączenia się 2 części cząsteczki (potencjalnie dimerów), co może wpływać na spadek oceny C-alpha. Element łączący to coil który charakteryzuję się duża elastycznością i brakiem uporządkowania struktury co wpływa na ocene predykcji."
   ]
  },
  {
   "cell_type": "markdown",
   "id": "0965d046-9924-4f7d-a774-0d3f2012e64b",
   "metadata": {},
   "source": [
    "Uruchom program pymol w katalogu data/af2/7qvb/output:<br>\n",
    "Ściagnąć strukture eksperymentalna badanej sekwenjcji:<br>\n",
    "<u>fetch 7qvb</u> <br>\n",
    "Załadować model1, jest to konformacja białka przewidziana przez AlhaFold2:<br>\n",
    "<u>load relaxed_model_1_multimer_v2_pred_2.pdb </u><br>\n",
    "Wyświetlic tylko łańcuch A homodimeru (7qvb):<br>\n",
    "<u>hide everything, not polymer or c. B</u><br>\n",
    "Nałożyć na siebie te struktury względem atomów C-alpha:<br>\n",
    "<u>extra_fit n. CA and c. A</u><br>\n",
    "Pokoloruj przewidziana strukture według parametru LDDT który jest zapisany w kolumnie z B-factor:<br>\n",
    "<u>spectrum b, red_yellow_blue, minimum=0, maximum=100, selection=m. relaxed_model_1_multimer_v2_pred_2</u><br>"
   ]
  },
  {
   "cell_type": "markdown",
   "id": "405782aa-2e79-4b1a-a3b3-97b118ad6234",
   "metadata": {},
   "source": [
    "Zad 5.2: Jakie jest RMSD nałożenia z strukturą 7qvb? Czy jest lepsze od wyników zaprezentowanych przez I-TASSER?"
   ]
  },
  {
   "cell_type": "markdown",
   "id": "e4d36768-0e6f-460c-82ce-b37736c2edc5",
   "metadata": {},
   "source": [
    "Odp_5.2: "
   ]
  },
  {
   "cell_type": "markdown",
   "id": "5cd0ea3d",
   "metadata": {},
   "source": [
    "RMSD =    1.538 (205 atoms)\n",
    "RMSD jest gorsze niż dla wyników zaprezentowanych prze I_TASSER, ale wciąż rzetelny."
   ]
  },
  {
   "cell_type": "markdown",
   "id": "083f7836-d34a-4f62-8c80-b049721413d8",
   "metadata": {},
   "source": [
    "Zad_5.3: Zlokalizuj miejsce charakteryzowane mniejszym LDDT a następnie napisz jaka to struktura II rzędowa/fragment nieuporządkowany/linker?<br>\n",
    "Można sobie pomóc wpisujac komende:<br>\n",
    "<u>select resid 110-115 and n. CA+C+N and m. relaxed_model_1_multimer_v2_pred_2</u>"
   ]
  },
  {
   "cell_type": "markdown",
   "id": "571807eb-066c-407b-a031-8067df805c82",
   "metadata": {},
   "source": [
    "Odp_5.3: "
   ]
  },
  {
   "cell_type": "markdown",
   "id": "965cdced",
   "metadata": {},
   "source": [
    "Jest to coil łacząca 2 helisy."
   ]
  },
  {
   "cell_type": "markdown",
   "id": "573e9f29-009c-4f0f-b112-0cd550ceae95",
   "metadata": {},
   "source": [
    "Zad 5.4: <br>\n",
    "sciagnij mape gestosci elektronowej dla struktury eksperymentalnej:\n",
    "\n",
    "<u>fetch 7qvb, type=2fofc</u>\n",
    "\n",
    "<u>isomesh mesh_ligand_carved, 7qvb_2fofc, selection=(resid 157-178 and c. A), carve=3</u>\n"
   ]
  },
  {
   "cell_type": "markdown",
   "id": "12451abe-77d9-444d-acd0-41fef0abb8da",
   "metadata": {},
   "source": [
    "Czy dzięki af2 można dowiedzięc się czegoś potencjalnie nowego, a czego nie wykazano w danych eksperymentalnych?\n"
   ]
  },
  {
   "cell_type": "markdown",
   "id": "ba86f4b2-7533-4612-b4b2-9b60dfa58157",
   "metadata": {},
   "source": [
    "Odp_5.4:"
   ]
  },
  {
   "cell_type": "markdown",
   "id": "56cb5cf4",
   "metadata": {},
   "source": [
    "Można się dowiedzień o mapi gestosci elektronowej dla struktury eksperymentalnej - w przybliżeniu jest ona skoncetrowana od 165 do 175 nuklotydu. AF-2 wskazuje też miejsca o mniej rzetelnej predykcji np elementy o małym uporządkowaniu bądź z dużą elastycznościa. Alpha fold dostarcz równierz predykcji struktury, które nie zostały wykazane podczas ekspretymentów."
   ]
  },
  {
   "cell_type": "markdown",
   "id": "a7b49552-0386-4233-924e-143dc0915e39",
   "metadata": {},
   "source": [
    "Zad_5.5:<br>\n",
    "\n",
    "<u>disable mesh_ligand_carved</u><br>\n",
    "<u>disable 7qvb</u><br>\n",
    "Wyświetl aminokwasy hydrofobowe:<br>\n",
    "<u>show sticks, resn ALA+VAL+LEU+ILE+PHE+TRP+MET+TYR</u><br>\n",
    "\n",
    "Czy znajdują się na powierzchni przewidzianej struktury jakies ugrupowania aminokwasow hydrofobowych? Czy można podejżewać że białko to występuje w formie dimeru?"
   ]
  },
  {
   "cell_type": "markdown",
   "id": "2dc94898-b7b6-4f8d-9816-5d9402dd14c8",
   "metadata": {},
   "source": [
    "Odp_5.5:"
   ]
  },
  {
   "cell_type": "markdown",
   "id": "f81d79d1",
   "metadata": {},
   "source": [
    "Tak, wsytepuję znaczna ilość ugrupowań aminokwasów hydrofobowych co może sugerować ze białko występuje w formie dimeru."
   ]
  },
  {
   "cell_type": "markdown",
   "id": "209244e1-c7d1-423f-be7e-ec249e4341e9",
   "metadata": {},
   "source": [
    "<h4>Ćw. 6 Przewidywanie struktury trzeciorzędowej – alphafold2 cd.</h4>\n",
    "\n",
    "Przeanalizuj pliki inputowe znajdujace sie w:<br>\n",
    "./data/af2/7qvb_dimer/input<br>\n",
    "-7qvb_dimer.fasta<br>\n",
    "-7qvb_dimer.sh<br>"
   ]
  },
  {
   "cell_type": "markdown",
   "id": "6bdc25cc-e0c4-4378-bde6-b9547a223cd5",
   "metadata": {},
   "source": [
    "Zad_6.1: Czym różnią się pliki inputowe dla alphafold2 7qvb_dimer.fasta w porównaniu do 7qvb.fasta?"
   ]
  },
  {
   "cell_type": "markdown",
   "id": "e37c5372-fdda-4685-a916-03eec92cb6db",
   "metadata": {},
   "source": [
    "Odp_6.1: "
   ]
  },
  {
   "cell_type": "markdown",
   "id": "3bb72eee",
   "metadata": {},
   "source": [
    "Główną różnicą jest rozdzielenie łańcuchów A i B na 2 sekwencje w pliku dimer."
   ]
  },
  {
   "cell_type": "markdown",
   "id": "b3595f4e-7837-414e-b190-bf7a94f35512",
   "metadata": {},
   "source": [
    "Uruchom program pymol w katalogu data/af2/7qvb_dimer/output:\n",
    "\n",
    "Ściagnąć strukture eksperymentalna badanej sekwenjcji:<br>\n",
    "<u>fetch 7qvb</u><br>\n",
    "<u>hide everything, not polymer</u><br>\n",
    "Załadować model3, jest to konformacja białka przewidziana przez AlhaFold2:<br>\n",
    "<u>load relaxed_model_3_multimer_v2_pred_0.pdb</u><br>\n",
    "Nałożyć na siebie te struktury względem atomów C-alpha:<br>\n",
    "<u>extra_fit n. CA and c. A</u><br>\n",
    "\n",
    "Pokoloruj łańcuchy ( na niebiesko łańcuchy A, na zielono łańcuchy B, na ciemno strukture eksperymentalna 7qvb, na jasno strukturę przewidzianą przez af2):<br>\n",
    "<u>color blue, m. 7qvb and c. A<br>\n",
    "color marine, m. relaxed_model_3_multimer_v2_pred_0 and c. A<br>\n",
    "color forest, m. 7qvb and c. B<br>\n",
    "color limegreen, m. relaxed_model_3_multimer_v2_pred_0 and c. B</u>"
   ]
  },
  {
   "cell_type": "markdown",
   "id": "46d1733d-f861-450a-b56f-de615c777287",
   "metadata": {},
   "source": [
    "Zad_6.2: Czy globale dopasowanie dla obu łańcuchów jest akcpetowalne? Jakie jest RMSD: <br>\n",
    "<u>extra_fit n. CA</u><br>"
   ]
  },
  {
   "cell_type": "markdown",
   "id": "3364e8ea-0003-4f1a-b94e-c3a2c107d8b9",
   "metadata": {},
   "source": [
    "Odp_6.2:"
   ]
  },
  {
   "cell_type": "markdown",
   "id": "fe872ff4",
   "metadata": {},
   "source": [
    "RMSD =    6.659 (375 atoms)\n",
    "Nie, RMSD >2."
   ]
  },
  {
   "cell_type": "markdown",
   "id": "38bed88c-85c0-404a-bdab-a53f9e05c38c",
   "metadata": {},
   "source": [
    "Zad_6.3: Czy globalne dopasowanie dla łancucha A jest akcpetowalne?: Jakie jest RMSD:<br>\n",
    "<u>extra_fit n. CA and c. A</u>"
   ]
  },
  {
   "cell_type": "markdown",
   "id": "4494b418-a4b5-4976-9385-c4e227b9c1b0",
   "metadata": {},
   "source": [
    "Odp_6.3:"
   ]
  },
  {
   "cell_type": "markdown",
   "id": "c6ebcc71",
   "metadata": {},
   "source": [
    "RMSD =    1.373 (196 atoms)\n",
    "Tak, RMSD jest poniżej 2."
   ]
  },
  {
   "cell_type": "markdown",
   "id": "a55ebc8a-add7-4f97-8530-bf5784f2186d",
   "metadata": {},
   "source": [
    "Zad_6.4: Czy globalne dopasowanie dla łancucha B jest akcpetowalne?: Jakie jest RMSD:<br>\n",
    "<u>extra_fit n. CA and c. B</u>"
   ]
  },
  {
   "cell_type": "markdown",
   "id": "0e293c03-e858-452b-a7e3-b2f25ed59040",
   "metadata": {},
   "source": [
    "Odp_6.4:"
   ]
  },
  {
   "cell_type": "markdown",
   "id": "b42c4ff8",
   "metadata": {},
   "source": [
    "Nie, RMSD =    7.972 (211 atoms) >2."
   ]
  },
  {
   "cell_type": "markdown",
   "id": "74a406d7-175a-4a88-aa52-2d2a206a1f5b",
   "metadata": {},
   "source": [
    "Zad 6.5: Sprawdz dwa loklne dopasowania łancucha B i podaj ich RMSD:<br>\n",
    "n. CA and c. B and resid 1-121 → RMSD:<br>\n",
    "n. CA and c. B and resid 125-230 → RMSD:<br>\n",
    "\n",
    "Wykonaj dopasowanie:<br>\n",
    "<u>extra_fit n. CA and ( c. A or ( c. B and resid 1-121))</u><br>\n",
    "\n",
    "I opisz największą różnice pomiedzy struktyura eksperymentalna a przywidzianą przez alphafold2.\n",
    "Czy ta różnica jest spowodowana odmienną konformacją krótkiego fragmentu łańcucha czy może dłuższy fragment został niepoprawnie przewidziany. Podaj zakres reszt które wprowadzają największą różnicę pomiedzy tymi dwoma strukturami."
   ]
  },
  {
   "cell_type": "markdown",
   "id": "2e3893a2-546e-4662-bbce-3ce27eac9f9b",
   "metadata": {},
   "source": [
    "Odp_6.5"
   ]
  },
  {
   "cell_type": "markdown",
   "id": "e5fb8cfa",
   "metadata": {},
   "source": [
    "n. CA and c. B and resid 1-121 → RMSD:<br>\n",
    "RMSD =    1.380 \n",
    "n. CA and c. B and resid 125-230 → RMSD:<br>\n",
    "RMSD =   0.791 \n",
    "\n",
    "W miejscu 121-125 wystepuje łamanie alpja-helisy co znacznie obniża RMSD dla całej cząteski. Prowadząc analize dla części widzimy, ze predykcja jest rzetelna."
   ]
  },
  {
   "cell_type": "markdown",
   "id": "9f56a79b-074a-474f-87f1-6e412badaaf9",
   "metadata": {},
   "source": [
    "Zad_6.6: Idź do RCSB I wprowadź, zaznacz “include CSM” I wprowadz unirpot ID.\n",
    "Czy sa jakies struktury wymodelowane komputerowo? "
   ]
  },
  {
   "cell_type": "markdown",
   "id": "6f3ec38b-0a2c-4df9-b812-df84391c4967",
   "metadata": {},
   "source": [
    "Odp_6.6"
   ]
  },
  {
   "cell_type": "markdown",
   "id": "e341d8bd",
   "metadata": {},
   "source": [
    "Tak, są 4 struktury."
   ]
  },
  {
   "cell_type": "markdown",
   "id": "3561c684-a831-4156-afc1-a8e205ef9c60",
   "metadata": {},
   "source": [
    "# AlphaFold3 server"
   ]
  },
  {
   "cell_type": "markdown",
   "id": "842c77eb-2622-4d38-b62a-7d1f2b216c63",
   "metadata": {},
   "source": [
    "W tym ćwiczeniu zapoznamy się z łatwiejszą w obsłudze wersją AlphaFold.<br>\n",
    "Proszę w tym celu:<br>\n",
    "-wpisać w google: alphafold server (pierwszy link)<br>\n",
    "-bądź wejsc na strone  <a href=\"https://alphafoldserver.com/\">alphafoldserver.com</a><br>\n",
    "<br>\n",
    "\n",
    "Następnie kliknąc \"Continue with Google\" i się zalogoać (polecam używać trybu incognito gdyż wówczas wystarczy zamknąć okno aby \"się wylogować\" nie martwiąc się o zapisane hasła i login.\n",
    "\n",
    "Nastęnie wkleić sekwencje (ludzka albumina, PDB ID: 8ew4) do pola z <i>input</i>:<br>\n",
    "<b>DAHKSEVAHRFKDLGEENFKALVLIAFAQYLQQCPFEDHVKLVNEVTEFAKTCVADESAENCDKSLHTLFGDKLCTVATLRETYGEMAD<br>CCAKQEPERNECFLQHKDDNPNLPRLVRPEVDVMCTAFHDNEETFLKKYLYEIARRHPYFYAPELLFFAKRYKAAFTECCQAADKAACL<br>LPKLDELRDEGKASSAKQRLKCASLQKFGERAFKAWAVARLSQRFPKAEFAEVSKLVTDLTKVHTECCHGDLLECADDRADLAKYICEN<br>QDSISSKLKECCEKPLLEKSHCIAEVENDEMPADLPSLAADFVESKDVCKNYAEAKDVFLGMFLYEYARRHPDYSVVLLLRLAKTYETT<br>LEKCCAAADPHECYAKVFDEFKPLVEEPQNLIKQNCELFEQLGEYKFQNALLVRYTKKVPQVSTPTLVEVSRNLGKVGSKCCKHPEAKR<br>MPCAEDYLSVVLNQLCVLHEKTPVSDRVTKCCTESLVNRRPCFSALEVDETYVPKEFNAETFTFHADICTLSEKERQIKKQTALVELVK<br>HKPKATKEQLKAVMDDFAAFVEKCCKADDKETCFAEEGKKLVAASQAALGL</b><br>\n",
    "<br>\n",
    "\n",
    "Następnie kliknąć na \"add entry\", wybrać ligand, wybrać 5 \"copies\" i wpisać skrót kwasu mirystynowego: <b>MYR</b> i go wybrać.<br>\n",
    "\n",
    "<br>\n",
    "Następnie kliknąć na \"add entry\", wybrać \"ion\", wybrać 1 \"copies\" i wybrać <b>Co2+</b>.<br>\n",
    "\n",
    "Następnie kliknąć: \"Continue and preview job\", wpisać tytuł obliczeń i zatwierdzić.<br>\n",
    "<br>\n",
    "Czas oczekiwania to około 5 min.\n",
    "\n",
    "\n"
   ]
  }
 ],
 "metadata": {
  "kernelspec": {
   "display_name": "Python 3 (ipykernel)",
   "language": "python",
   "name": "python3"
  },
  "language_info": {
   "codemirror_mode": {
    "name": "ipython",
    "version": 3
   },
   "file_extension": ".py",
   "mimetype": "text/x-python",
   "name": "python",
   "nbconvert_exporter": "python",
   "pygments_lexer": "ipython3",
   "version": "3.11.7"
  }
 },
 "nbformat": 4,
 "nbformat_minor": 5
}
